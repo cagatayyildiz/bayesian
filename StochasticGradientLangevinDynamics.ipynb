{
 "cells": [
  {
   "cell_type": "markdown",
   "metadata": {},
   "source": [
    "### SGLD on 1D Gaussian"
   ]
  },
  {
   "cell_type": "markdown",
   "metadata": {},
   "source": [
    "**Gaussian distribution pdf**:\n",
    "\n",
    "\\begin{align}\n",
    "p(x|\\mu, \\sigma^2) &= \\frac{1}{\\sqrt{2\\pi\\sigma^2}} \\exp\\left( -\\frac{(x-\\mu)^2}{2\\sigma^2} \\right) \\\\\n",
    "&= \\frac{1}{\\sqrt{2\\pi\\sigma^2}} \\exp\\left( -\\frac{x^2-2x\\mu+\\mu^2}{2\\sigma^2} \\right)\n",
    "\\end{align}"
   ]
  },
  {
   "cell_type": "markdown",
   "metadata": {},
   "source": [
    "\\begin{align}\n",
    "    \\frac{\\partial \\log p(x|\\mu, \\sigma^2)}{\\partial x} &= -\\frac{x-\\mu}{\\sigma^2} \\\\\n",
    "    \\frac{\\partial \\log p(x|\\mu, \\sigma^2)}{\\partial \\mu} &= \\frac{x-\\mu}{\\sigma^2}\n",
    "\\end{align}"
   ]
  },
  {
   "cell_type": "code",
   "execution_count": 2,
   "metadata": {
    "collapsed": false
   },
   "outputs": [],
   "source": [
    "import numpy as np\n",
    "from scipy.stats import norm\n",
    "import matplotlib.pyplot as plt\n",
    "%matplotlib inline"
   ]
  },
  {
   "cell_type": "code",
   "execution_count": 3,
   "metadata": {
    "collapsed": false
   },
   "outputs": [
    {
     "data": {
      "text/plain": [
       "[<matplotlib.lines.Line2D at 0x7f6d73f547b8>]"
      ]
     },
     "execution_count": 3,
     "metadata": {},
     "output_type": "execute_result"
    },
    {
     "data": {
      "image/png": "[encoded data removed]",
      "text/plain": [
       "<matplotlib.figure.Figure at 0x7f6d73fdc748>"
      ]
     },
     "metadata": {},
     "output_type": "display_data"
    }
   ],
   "source": [
    "x = np.linspace(0, 5, 100, endpoint=False)\n",
    "y = norm.pdf(x, loc=2.5, scale=1)\n",
    "\n",
    "plt.plot(x,y)"
   ]
  },
  {
   "cell_type": "markdown",
   "metadata": {},
   "source": [
    "## Simple Gaussian Model\n",
    "\\begin{align}\n",
    "    \\theta &\\sim \\mathcal{N}(0,\\sigma_0) \\\\\n",
    "    x_n|\\theta &\\sim \\mathcal{N}(\\theta,\\sigma_x^2)\n",
    "\\end{align}\n",
    "\n",
    "We would like to sample from the posterior $p(\\theta|X)$ and assume that we know $\\sigma_x^2$.\n"
   ]
  },
  {
   "cell_type": "markdown",
   "metadata": {},
   "source": [
    "### Exact Posterior Derivation\n",
    "\n",
    "\\begin{align}\n",
    "    \\log p(\\theta|X) &\\propto \\log p(\\theta) + \\sum_n \\log p(x_n|\\theta) \\\\\n",
    "    &= -\\frac{\\theta^2}{2\\sigma_0^2} - \\frac{\\sum_n (x_n-\\theta)^2}{2\\sigma_x^2} \\\\\n",
    "    &= -\\frac{\\theta^2}{2\\sigma_0^2} - \\frac{\\sum_n x_n^2-2x_n\\theta + \\theta^2}{2\\sigma_x^2} \\\\\n",
    "    &\\propto -\\frac{\\theta^2}{2}\\left(\\frac{1}{\\sigma_0^2} + \\frac{N}{\\sigma_x^2} \\right) + \\theta \\frac{\\sum_n x_n}{\\sigma_x^2}\n",
    "\\end{align}\n",
    "\n",
    "\\begin{align}\n",
    "    p(\\theta|X) = \\mathcal{N} \\left(  \\frac{\\sigma_0^2\\sum_n x_n}{\\sigma_x^2+N\\sigma_0^2}, \\left( \\frac{1}{\\sigma_0^2} + \\frac{N}{\\sigma_x^2} \\right)^{-1} \\right)\n",
    "\\end{align}"
   ]
  },
  {
   "cell_type": "markdown",
   "metadata": {},
   "source": [
    "### Exact Posterior Computation"
   ]
  },
  {
   "cell_type": "code",
   "execution_count": 5,
   "metadata": {
    "collapsed": false
   },
   "outputs": [
    {
     "name": "stdout",
     "output_type": "stream",
     "text": [
      "theta = 0.10937173888941994\n"
     ]
    },
    {
     "data": {
      "image/png": "[encoded data removed]",
      "text/plain": [
       "<matplotlib.figure.Figure at 0x7f6d9c4a9198>"
      ]
     },
     "metadata": {},
     "output_type": "display_data"
    },
    {
     "name": "stdout",
     "output_type": "stream",
     "text": [
      "ML estimate = 0.0656857717217\n",
      "posterior mean = 0.0656201515702\n",
      "posterior variance = 0.000999000999000999\n"
     ]
    }
   ],
   "source": [
    "var_0 = 1\n",
    "var_x = 10\n",
    "sigma_0 = np.sqrt(var_0)\n",
    "sigma_x = np.sqrt(var_x)\n",
    "N = 10000\n",
    "\n",
    "# generate theta\n",
    "theta = np.random.normal(0,sigma_0)\n",
    "print(\"theta = \" + str(theta))\n",
    "\n",
    "# generate observations\n",
    "X = np.random.normal(theta, sigma_x, size=N)\n",
    "\n",
    "# visualize\n",
    "n, bins, patches = plt.hist(X);\n",
    "x=np.linspace(theta-3*sigma_x,theta+3*sigma_x,100)\n",
    "plt.plot(x,sigma_x*N/2*norm.pdf(x,theta,sigma_x),color='k',linewidth=3);\n",
    "plt.show()\n",
    "\n",
    "# ML estimation\n",
    "theta_ml = np.mean(X)\n",
    "print(\"ML estimate = \" + str(theta_ml))\n",
    "\n",
    "# Exact posterior\n",
    "p_mean = var_0*X.sum()/(var_x+N*var_0)\n",
    "p_var = 1/(1/var_0 + N/var_x)\n",
    "print(\"posterior mean = \" + str(p_mean))\n",
    "print(\"posterior variance = \" + str(p_var))"
   ]
  },
  {
   "cell_type": "code",
   "execution_count": 6,
   "metadata": {
    "collapsed": false
   },
   "outputs": [
    {
     "data": {
      "text/plain": [
       "[<matplotlib.lines.Line2D at 0x7f6d61f16908>]"
      ]
     },
     "execution_count": 6,
     "metadata": {},
     "output_type": "execute_result"
    },
    {
     "data": {
      "image/png": "[encoded data removed]",
      "text/plain": [
       "<matplotlib.figure.Figure at 0x7f6d61f5a668>"
      ]
     },
     "metadata": {},
     "output_type": "display_data"
    }
   ],
   "source": [
    "def gradient(theta, var_0, var_x, X_, N):\n",
    "    grad_prior = -theta/var_0\n",
    "    grad_obs = (np.sum(X_)-len(X_)*theta)/var_x\n",
    "    return grad_prior + N/len(X_)*grad_obs\n",
    "    \n",
    "a_eps = 1e-4\n",
    "pow_ = 0.51\n",
    "T = int(2*1e3)\n",
    "samples = np.zeros(T)\n",
    "theta_ = 0\n",
    "N_gamma = int(N/1000)\n",
    "\n",
    "for t in range(T):\n",
    "    X_ = np.random.choice(X, size=N_gamma, replace=False)\n",
    "    grad = gradient(theta_, var_0, var_x, X_, N)\n",
    "    eps = np.power((a_eps/(t+1)),pow_)\n",
    "    nu = np.sqrt(2*eps)*np.random.normal()\n",
    "    delta_theta = eps*grad + nu\n",
    "    theta_ += delta_theta\n",
    "    samples[t] = theta_\n",
    "\n",
    "plt.figure(figsize=(20,5))\n",
    "diff = np.zeros(T-1)\n",
    "for t in range(1,T-1):\n",
    "    diff[t-1] = np.abs(np.mean(samples[0:t])-theta)\n",
    "# plt.ylim((0))\n",
    "plt.semilogy(diff)"
   ]
  },
  {
   "cell_type": "markdown",
   "metadata": {},
   "source": [
    "## Second Model: Gaussian Mixture Prior\n",
    "\\begin{align}\n",
    "    \\theta &\\sim \\sum_k w_k \\mathcal{N}(\\theta;\\mu_k,\\sigma_k^2I) \\\\\n",
    "    x_n|\\theta &\\sim \\mathcal{N}(x_n;a_n^{\\text{T}}\\theta,\\sigma_x^2) \\\\\n",
    "    X|\\theta &\\sim \\mathcal{N}(X;A\\theta,\\sigma_x^2I) \\text{, where } A=[a_1^T,a_2^T,\\cdots,a_N^T]^T \\\\\n",
    "    \\theta|X &\\propto \\sum_k w_k\\mathcal{N}(\\theta;\\mu_{p,k},\\Sigma_{p,k})\n",
    "\\end{align}\n",
    "where\n",
    "\\begin{align}\n",
    "    \\Sigma_{p,k} &= \\left( \\frac{1}{\\sigma_k^2}I + \\frac{1}{\\sigma_x^2}A^TA \\right)^{-1} \\\\\n",
    "    \\mu_{p,k} &= \\Sigma_{p,k} \\left(\\frac{1}{\\sigma_x^2}A^TX + \\frac{1}{\\sigma_k^2}\\mu_k \\right)\n",
    "\\end{align}\n",
    "   \n",
    "   \n",
    "#### Gradient of Log-Posterior\n",
    "\\begin{align}\n",
    "    \\log p(\\theta|X) &\\propto \\log p(\\theta) + \\log p(X|\\theta) \\\\\n",
    "    &= \\log \\sum_k w_k \\mathcal{N}(\\theta;\\mu_k,\\sigma_k^2I) + \\sum_n \\log \\mathcal{N}(x_n;a_n^{\\text{T}}\\theta,\\sigma_x^2)\n",
    "\\end{align}\n",
    "\\begin{align}\n",
    "    \\frac{\\partial \\log p(\\theta)}{\\partial\\theta} &= \\frac{\\partial \\sum_k w_k (2\\pi\\sigma_k^2)^{-\\frac{d}{2}} \\exp\\left(-\\frac{1}{2\\sigma_k^2}(\\theta-\\mu_k)^T(\\theta-\\mu_k)\\right) }{\\sum_k w_k \\mathcal{N}(\\theta;\\mu_k,\\sigma_k^2I)} \\\\\n",
    "    &= \\frac{\\sum_k -w_k \\left(\\frac{\\theta-\\mu_k}{\\sigma_k^2}\\right) \\mathcal{N}(\\theta;\\mu_k,\\sigma_k^2I) } {\\sum_k w_k \\mathcal{N}(\\theta;\\mu_k,\\sigma_k^2I)} \\\\\n",
    "    \\frac{\\partial \\log p(X|\\theta)}{\\partial\\theta} &= \\frac{(x_n-a_n^T\\theta)}{\\sigma_x^2}a_n\n",
    "\\end{align}\n"
   ]
  },
  {
   "cell_type": "markdown",
   "metadata": {},
   "source": [
    "### Appendix: Product of Two Gaussians\n",
    "\\begin{align}\n",
    "    f(x) &= \\mathcal{N}(\\mu_f,\\sigma_f^2) \\\\\n",
    "    g(x) &= \\mathcal{N}(\\mu_g,\\sigma_g^2) \\\\\n",
    "    f(x)g(x) &\\propto \\mathcal{N}(\\mu_p,\\sigma_p^2) \\\\\n",
    "    \\sigma_p^2 = \\frac{\\sigma_f^2\\sigma_g^2}{\\sigma_f^2+\\sigma_g^2} &\\text{, } \\mu_p = \\frac{\\mu_f\\sigma_g^2 + \\mu_g\\sigma_f^2}{\\sigma_f^2+\\sigma_g^2}\n",
    "\\end{align}"
   ]
  }
 ],
 "metadata": {
  "kernelspec": {
   "display_name": "Python 3",
   "language": "python",
   "name": "python3"
  },
  "language_info": {
   "codemirror_mode": {
    "name": "ipython",
    "version": 3
   },
   "file_extension": ".py",
   "mimetype": "text/x-python",
   "name": "python",
   "nbconvert_exporter": "python",
   "pygments_lexer": "ipython3",
   "version": "3.5.3"
  }
 },
 "nbformat": 4,
 "nbformat_minor": 0
}
