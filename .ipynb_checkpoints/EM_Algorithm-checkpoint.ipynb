{
 "cells": [
  {
   "cell_type": "markdown",
   "metadata": {},
   "source": [
    "### Jensen's Inequality"
   ]
  },
  {
   "cell_type": "markdown",
   "metadata": {},
   "source": [
    "$\\newcommand{\\E}[1]{\\left\\langle#1\\right\\rangle}$\n",
    "$\\newcommand{\\par}[1]{\\left(#1\\right)}$\n",
    "\n",
    "If $f$ is a concave function, then for $0\\leq \\lambda \\leq 1$ Jensen's inequality states that\n",
    "\n",
    "\\begin{eqnarray}\n",
    "f(\\lambda x_1 + (1-\\lambda)x_2) \\geq \\lambda f(x_1) + (1-\\lambda)f(x_2)\n",
    "\\end{eqnarray}\n",
    "In general, for constants $c_1, c_2, c_3, ...$ that sum up to 1, we can generalize the above statement as \n",
    "\n",
    "\\begin{eqnarray}\n",
    "f\\left(\\sum_i c_i x_i\\right) \\geq \\sum_i c_i f(x_i)\n",
    "\\end{eqnarray}\n",
    "\n",
    "Whenever $p(x_i) = c_i$, the statement is written as \n",
    "\\begin{eqnarray}\n",
    "f(\\E{x_i}) \\geq \\E{f(x)}\n",
    "\\end{eqnarray}\n",
    "\n",
    "Now, let's see $log$ is a concave function:"
   ]
  },
  {
   "cell_type": "code",
   "execution_count": 9,
   "metadata": {
    "collapsed": false
   },
   "outputs": [
    {
     "data": {
      "image/png": "[encoded data removed]",
      "text/plain": [
       "<matplotlib.figure.Figure at 0x7ff1301d9090>"
      ]
     },
     "metadata": {},
     "output_type": "display_data"
    }
   ],
   "source": [
    "%matplotlib inline\n",
    "import numpy as np\n",
    "import matplotlib.pyplot as plt\n",
    "\n",
    "X = np.arange(1e-3,1e3,0.1)\n",
    "Y = np.log(X)\n",
    "\n",
    "plt.plot(X,Y)\n",
    "plt.show()"
   ]
  },
  {
   "cell_type": "markdown",
   "metadata": {},
   "source": [
    "### EM Algorithm"
   ]
  },
  {
   "cell_type": "markdown",
   "metadata": {},
   "source": [
    "In EM algorithm, the aim is to increase the lower bound of the log likelihood. For this, we will make use of the Jensen's bound and the log being a concave function:\n",
    "\n",
    "\\begin{eqnarray}\n",
    "{\\cal L}(\\theta) &=& \\log p(y|\\theta) \\\\\n",
    "&=& \\log \\sum_x p(x,y|\\theta) \\\\\n",
    "&=& \\log \\sum_x p(x,y|\\theta) \\frac{q(x)}{q(x)} \\\\\n",
    "&=& \\log \\E{\\frac{p(x,y|\\theta)}{q(x)}}_{q(x)} \\\\\n",
    "&\\geq&  \\E{\\log p(x,y|\\theta)-\\log q(x)}_{q(x)} \\\\\n",
    "&=& \\E{\\log p(x,y|\\theta)}_{q(x)} - \\log \\E{q(x)}_{q(x)}\n",
    "\\end{eqnarray}"
   ]
  },
  {
   "cell_type": "code",
   "execution_count": null,
   "metadata": {
    "collapsed": true
   },
   "outputs": [],
   "source": []
  }
 ],
 "metadata": {
  "kernelspec": {
   "display_name": "Python 2",
   "language": "python",
   "name": "python2"
  },
  "language_info": {
   "codemirror_mode": {
    "name": "ipython",
    "version": 2
   },
   "file_extension": ".py",
   "mimetype": "text/x-python",
   "name": "python",
   "nbconvert_exporter": "python",
   "pygments_lexer": "ipython2",
   "version": "2.7.6"
  }
 },
 "nbformat": 4,
 "nbformat_minor": 0
}
