{
 "cells": [
  {
   "cell_type": "code",
   "execution_count": 4,
   "metadata": {
    "collapsed": true
   },
   "outputs": [],
   "source": [
    "%matplotlib inline\n",
    "import numpy as np\n",
    "import matplotlib.pyplot as plt"
   ]
  },
  {
   "cell_type": "markdown",
   "metadata": {},
   "source": [
    "### Preliminary: Jensen's Inequality"
   ]
  },
  {
   "cell_type": "markdown",
   "metadata": {},
   "source": [
    "$\\newcommand{\\E}[1]{\\left\\langle#1\\right\\rangle}$\n",
    "$\\newcommand{\\par}[1]{\\left(#1\\right)}$\n",
    "\n",
    "If $f$ is a concave function, then for $0\\leq \\lambda \\leq 1$ Jensen's inequality states that\n",
    "\n",
    "\\begin{eqnarray}\n",
    "f(\\lambda x_1 + (1-\\lambda)x_2) \\geq \\lambda f(x_1) + (1-\\lambda)f(x_2)\n",
    "\\end{eqnarray}\n",
    "In general, for constants $c_1, c_2, c_3, ...$ that sum up to 1, we can generalize the above statement as \n",
    "\n",
    "\\begin{eqnarray}\n",
    "f\\left(\\sum_i c_i x_i\\right) \\geq \\sum_i c_i f(x_i)\n",
    "\\end{eqnarray}\n",
    "\n",
    "Whenever $p(x_i) = c_i$, the statement is written as \n",
    "\\begin{eqnarray}\n",
    "f(\\E{x}) \\geq \\E{f(x)}\n",
    "\\end{eqnarray}\n",
    "\n",
    "Now, let's see $\\log$ is a concave function:"
   ]
  },
  {
   "cell_type": "code",
   "execution_count": 3,
   "metadata": {
    "collapsed": false
   },
   "outputs": [
    {
     "data": {
      "image/png": "[encoded data removed]",
      "text/plain": [
       "<matplotlib.figure.Figure at 0x7fa08583c0f0>"
      ]
     },
     "metadata": {},
     "output_type": "display_data"
    }
   ],
   "source": [
    "X = np.arange(1e-3,1e3,0.1)\n",
    "Y = np.log(X)\n",
    "\n",
    "plt.plot(X,Y)\n",
    "plt.show()"
   ]
  },
  {
   "cell_type": "markdown",
   "metadata": {},
   "source": [
    "# EM Algorithm"
   ]
  },
  {
   "cell_type": "markdown",
   "metadata": {},
   "source": [
    "[see http://www.cs.princeton.edu/courses/archive/spr08/cos424/scribe_notes/0311.pdf for better writing]\n",
    "\n",
    "[see the EM Algorithm section (**11.4**) in Kevin Murphy's book]\n",
    "\n",
    "[also see Barış's website for Taylan Hoca's notation: http://bariskurt.com/learning-markov-mixtures-with-em-derivationmatlab-code/]\n",
    "\n",
    "\n",
    "The EM algorithm is a general method that is widely used to find the parameters of a state space model that maximizes the likelihood. If $\\theta$, $z$ and $x$ denote model parameters, latent variables and observations, respectively, our goal is to maximize log-likelihood $\\mathcal{L}(\\theta)$:\n",
    "\n",
    "\\begin{align}\n",
    "   \\hat{\\theta} &= \\underset{\\theta}{\\text{argmax}}\\mathcal{L}(\\theta)\\\\\n",
    "   &=\\underset{\\theta}{\\text{argmax}} \\log p(x|\\theta) \\\\\n",
    "   &= \\underset{\\theta}{\\text{argmax}}  \\log  \\sum_{z} \\underbrace{p(z|\\theta) p(x|z,\\theta)}_{\\text{complete data likelihood}} \n",
    "\\end{align}\n",
    "\n",
    "The expression on the right is hard to evaluate as the summation over latent variables is almost always intractable. For this, classical EM algorithm attempts to maximize a lower bound for the likelihood. Now, let's first write the log-likelihood:\n",
    "\n",
    "\\begin{align}\n",
    "    \\log p(x|\\theta) &= \\log \\sum_{z} p(x,z|\\theta) \\\\\n",
    "                     &= \\log \\sum_{z} p(x,z|\\theta) \\frac{q(z)}{q(z)} \\\\  \n",
    "                     &= \\log E \\left[ \\frac{ p(x,z|\\theta)}{q(z)} \\right]_{q(z)} \\\\ \n",
    "                     &\\geq \\underbrace{E \\left[ \\log  \\frac{p(x,z|\\theta)}{q(z)} \\right]_{q(z)}}_{\\text{free energy term}} \\\\\n",
    "                     &= E \\left[ \\log p(z|\\theta) + \\log p(x|z,\\theta) - \\log q(z) \\right]_{q(z)} \\\\  \n",
    "                  \\mathcal{L}(\\theta, q(z)) &= \\underbrace{E \\left[ \\log p(z|\\theta) \\right]_{q(z)} + E \\left[ \\log p(x|z,\\theta) \\right]_{q(z)}}_{\\text{energy}} - \\underbrace{E \\left[ \\log q(z) \\right]_{q(z)}}_{\\text{entropy}} \\\\  \n",
    "\\end{align}\n",
    "\n",
    "Here, $q(z)$ is an arbitrary distribution on $z$. Also note that we used the Jensen inequality, which states that $f(E[x]) \\geq E[f(x)]$ when $f$ is a concave function (such as $\\log$), in the fourth line. In each iteration of the algorithm, $q(z)$ and $\\theta$ is updated to maximize current value of $\\mathcal{L}(\\theta, q(z))$. The algorithm terminates when the likelihood converges.\n",
    "\n",
    "#### E-Step\n",
    "In the classical EM, recipe for the E-step is ready. At $t$'th step,\n",
    "\\begin{equation}\n",
    "    q(z)^{(t)} = p(z|x,\\theta^{(t)})\n",
    "\\end{equation}\n",
    "\n",
    "This choice makes the bound tight:\n",
    "\n",
    "\\begin{align}\n",
    "    \\mathcal{L}(p(z|x,\\theta), \\theta) &= E \\left[ \\log p(z|\\theta) + \\log p(x|z,\\theta) - \\log p(z|x,\\theta) \\right]_{p(z|x,\\theta)} \\\\\n",
    "    &= \\sum_{z} p(z|x,\\theta) \\log \\frac{p(x,z|\\theta)}{p(z|x,\\theta)} \\\\\n",
    "    &= \\sum_{z} p(z|x,\\theta) \\log p(x|\\theta) \\\\\n",
    "    &= \\log p(x|\\theta) \\sum_{z} p(z|x,\\theta)  \\\\\n",
    "    &= \\log p(x|\\theta)\n",
    "\\end{align}\n",
    "\n",
    "From now on, we will replace $\\mathcal{L}(\\theta, q(z))$ with $\\mathcal{L}(\\theta, \\theta^{(t)})$ as $q(z)$ is a distribution conditioned to $\\theta^{(t)}$.\n",
    "\n",
    "#### M-Step\n",
    "The M-Step updates the model parameter $\\theta$ that maximizes the expected complete data log likelihood.\n",
    "\\begin{equation}\n",
    "    \\theta^{(t+1)} = \\underset{\\theta}{\\text{argmax}} \\mathcal{L}(\\theta^{(t)}, \\theta)\n",
    "\\end{equation}\n",
    "\n",
    "#### Relation to KL Divergence\n",
    "When we re-write the free energy term,\n",
    "\\begin{align}\n",
    "    \\mathcal{L}(\\theta, q(z)) &= E \\left[ \\log  \\frac{p(x,z|\\theta)}{q(z)} \\right]_{q(z)} \\\\\n",
    "    &= E \\left[ \\log  \\frac{p(x|\\theta)p(z|x,\\theta)}{q(z)} \\right]_{q(z)} \\\\\n",
    "    &= E \\left[ \\log p(x|\\theta) \\right]_{q(z)} + E\\left[ \\log \\frac{p(z|x,\\theta)}{q(z)} \\right]_{q(z)} \\\\\n",
    "    &= \\mathcal{L}(\\theta) - \\mathbf{KL}[q(x)||p(z|x,\\theta)]\n",
    "\\end{align}\n",
    "\n",
    "Thus, maximizing the lower bound corresponds to minimizing KL divergence between the variational distribution and the posterior. "
   ]
  },
  {
   "cell_type": "code",
   "execution_count": null,
   "metadata": {
    "collapsed": true
   },
   "outputs": [],
   "source": []
  }
 ],
 "metadata": {
  "kernelspec": {
   "display_name": "Python 3",
   "language": "python",
   "name": "python3"
  },
  "language_info": {
   "codemirror_mode": {
    "name": "ipython",
    "version": 3
   },
   "file_extension": ".py",
   "mimetype": "text/x-python",
   "name": "python",
   "nbconvert_exporter": "python",
   "pygments_lexer": "ipython3",
   "version": "3.5.1"
  }
 },
 "nbformat": 4,
 "nbformat_minor": 0
}
