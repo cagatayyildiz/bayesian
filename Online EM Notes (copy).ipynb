{
 "cells": [
  {
   "cell_type": "markdown",
   "metadata": {},
   "source": [
    "# An Application of Online EM Algorithm to Letter Prediction Problem"
   ]
  },
  {
   "cell_type": "markdown",
   "metadata": {},
   "source": [
    "The implementation of HMM in large part belongs to Ali Taylan Cemgil(ATC): \n",
    "https://github.com/atcemgil/notes/blob/master/HiddenMarkovModel.ipynb\n",
    "\n",
    "The code importing the data also belongs to ATC: https://github.com/atcemgil/notes/blob/master/Sampling.ipynb"
   ]
  },
  {
   "cell_type": "markdown",
   "metadata": {},
   "source": [
    "## An Implementation of HMM in Python"
   ]
  },
  {
   "cell_type": "markdown",
   "metadata": {},
   "source": [
    "### Some Utility Functions"
   ]
  },
  {
   "cell_type": "code",
   "execution_count": 6,
   "metadata": {
    "collapsed": false
   },
   "outputs": [],
   "source": [
    "import numpy as np\n",
    "import matplotlib.pyplot as plt\n",
    "%matplotlib inline\n",
    "\n",
    "def randgen(pr, N=1): \n",
    "    L = len(pr)\n",
    "    return np.random.choice(range(L), size=N, replace=True, p=pr)\n",
    "\n",
    "def log_sum_exp(l, axis=0):\n",
    "    l_star = np.max(l, axis=axis, keepdims=True)\n",
    "    return l_star + np.log(np.sum(np.exp(l - l_star),axis=axis,keepdims=True)) \n",
    "\n",
    "def normalize_exp(log_P, axis=None):\n",
    "    a = np.max(log_P, keepdims=True, axis=axis)\n",
    "    P = normalize(np.exp(log_P - a), axis=axis)\n",
    "    return P\n",
    "\n",
    "def normalize(A, axis=None):\n",
    "    Z = np.sum(A, axis=axis,keepdims=True)\n",
    "    idx = np.where(Z == 0)\n",
    "    Z[idx] = 1\n",
    "    return A/Z\n"
   ]
  },
  {
   "cell_type": "markdown",
   "metadata": {},
   "source": [
    "### Some HMM Functions"
   ]
  },
  {
   "cell_type": "code",
   "execution_count": 7,
   "metadata": {
    "collapsed": true
   },
   "outputs": [],
   "source": [
    "def predict(A, lp):\n",
    "    lstar = np.max(lp)\n",
    "    return lstar + np.log(np.dot(A,np.exp(lp-lstar)))\n",
    "\n",
    "def postdict(A, lp):\n",
    "    lstar = np.max(lp)\n",
    "    return lstar + np.log(np.dot(np.exp(lp-lstar), A))\n",
    "\n",
    "def update(y, logB, lp):\n",
    "    return logB[y,:] + lp"
   ]
  },
  {
   "cell_type": "markdown",
   "metadata": {},
   "source": [
    "### HMM Implementation "
   ]
  },
  {
   "cell_type": "code",
   "execution_count": 8,
   "metadata": {
    "collapsed": false
   },
   "outputs": [],
   "source": [
    "class HMM(object):\n",
    "    def __init__(self, pi, A, B):\n",
    "        # p(x_0)\n",
    "        self.pi = pi\n",
    "        # p(x_k|x_{k-1})\n",
    "        self.A = A\n",
    "        # p(y_k|x_{k})\n",
    "        self.B = B\n",
    "        # Number of possible latent states at each time\n",
    "        self.S = pi.shape[0]\n",
    "        # Number of possible observations at each time\n",
    "        self.R = B.shape[0]\n",
    "        self.logB = np.log(self.B)\n",
    "        self.logA = np.log(self.A)\n",
    "        self.logpi = np.log(self.pi)\n",
    "        \n",
    "    def copy(self):\n",
    "        pi_ = self.pi.copy()\n",
    "        A_ = self.A.copy()\n",
    "        B_ = self.B.copy()\n",
    "        hmm = HMM(pi_,A_,B_)\n",
    "        return hmm\n",
    "    \n",
    "    @classmethod\n",
    "    def from_random_parameters(cls, S=3, R=5):\n",
    "        A = np.random.dirichlet(0.7*np.ones(S),S).T\n",
    "        B = np.random.dirichlet(0.7*np.ones(R),S).T\n",
    "        pi = np.random.dirichlet(0.7*np.ones(S)).T\n",
    "        return cls(pi, A, B)\n",
    "    \n",
    "    def eval_lhood(self,y):\n",
    "        log_gamma = self.forward_backward_smoother(y)\n",
    "        return log_sum_exp(log_gamma[:,0])\n",
    "        \n",
    "    def __str__(self):\n",
    "        s = \"Prior:\\n\" + str(self.pi) + \"\\nA:\\n\" + str(self.A) + \"\\nB:\\n\" + str(self.B)\n",
    "        return s\n",
    "    \n",
    "    def __repr__(self):\n",
    "        s = self.__str__()\n",
    "        return s\n",
    "\n",
    "    def predict(self, lp):\n",
    "        lstar = np.max(lp)\n",
    "        return lstar + np.log(np.dot(self.A,np.exp(lp-lstar)))\n",
    "\n",
    "    def postdict(self, lp):\n",
    "        lstar = np.max(lp)\n",
    "        return lstar + np.log(np.dot(np.exp(lp-lstar), self.A))\n",
    "\n",
    "    def update(self, y, lp):\n",
    "        return self.logB[y,:] + lp\n",
    "\n",
    "    def generate_sequence(self, T=10):\n",
    "        # T: Number of steps\n",
    "        x = np.zeros(T)\n",
    "        y = np.zeros(T)\n",
    "\n",
    "        for t in range(T):\n",
    "            if t==0:\n",
    "                x[t] = randgen(self.pi)\n",
    "            else:\n",
    "                x[t] = randgen(self.A[:,x[t-1]])    \n",
    "            y[t] = randgen(self.B[:,x[t]])\n",
    "    \n",
    "        return y, x\n",
    "\n",
    "    def forward(self, y):\n",
    "        T = len(y)\n",
    "        \n",
    "        # Forward Pass\n",
    "\n",
    "        # Python indexes starting from zero so\n",
    "        # log \\alpha_{k|k} will be in log_alpha[:,k-1]\n",
    "        # log \\alpha_{k|k-1} will be in log_alpha_pred[:,k-1]\n",
    "        log_alpha  = np.zeros((self.S, T))\n",
    "        log_alpha_pred = np.zeros((self.S, T))\n",
    "        for k in range(T):\n",
    "            if k==0:\n",
    "                log_alpha_pred[:,0] = self.logpi\n",
    "            else:\n",
    "                log_alpha_pred[:,k] = self.predict(log_alpha[:,k-1])\n",
    "\n",
    "            log_alpha[:,k] = self.update(y[k], log_alpha_pred[:,k])\n",
    "            \n",
    "        return log_alpha, log_alpha_pred\n",
    "            \n",
    "    def backward(self, y):\n",
    "        # Backward Pass\n",
    "        T = len(y)\n",
    "        log_beta  = np.zeros((self.S, T))\n",
    "        log_beta_post = np.zeros((self.S, T))\n",
    "\n",
    "        for k in range(T-1,-1,-1):\n",
    "            if k==T-1:\n",
    "                log_beta_post[:,k] = np.zeros(self.S)\n",
    "            else:\n",
    "                log_beta_post[:,k] = self.postdict(log_beta[:,k+1])\n",
    "\n",
    "            log_beta[:,k] = self.update(y[k], log_beta_post[:,k])\n",
    "\n",
    "        return log_beta, log_beta_post\n",
    "        \n",
    "    def forward_backward_smoother(self, y):\n",
    "        log_alpha, log_alpha_pred = self.forward(y)\n",
    "        log_beta, log_beta_post = self.backward(y)\n",
    "        \n",
    "        log_gamma = log_alpha + log_beta_post\n",
    "        return log_gamma\n",
    "        \n",
    "    def correction_smoother(self, y):\n",
    "        # Correction Smoother\n",
    "\n",
    "        log_alpha, log_alpha_pred = self.forward(y)\n",
    "        T = len(y)\n",
    "        \n",
    "        # For numerical stability, we calculate everything in the log domain\n",
    "        log_gamma_corr = np.zeros_like(log_alpha)\n",
    "        log_gamma_corr[:,T-1] = log_alpha[:,T-1]\n",
    "\n",
    "        C2 = np.zeros((self.S, self.S))\n",
    "        C3 = np.zeros((self.R, self.S))\n",
    "        C3[y[-1],:] = normalize_exp(log_alpha[:,T-1])\n",
    "        for k in range(T-2,-1,-1):\n",
    "            log_old_pairwise_marginal = log_alpha[:,k].reshape(1,self.S) + self.logA \n",
    "            log_old_marginal = self.predict(log_alpha[:,k])\n",
    "            log_new_pairwise_marginal = log_old_pairwise_marginal + log_gamma_corr[:,k+1].reshape(self.S,1) - log_old_marginal.reshape(self.S,1)\n",
    "            log_gamma_corr[:,k] = log_sum_exp(log_new_pairwise_marginal, axis=0).reshape(self.S)\n",
    "            C2 += normalize_exp(log_new_pairwise_marginal)\n",
    "            C3[y[k],:] += normalize_exp(log_gamma_corr[:,k])\n",
    "        C1 = normalize_exp(log_gamma_corr[:,0])\n",
    "        return C1, C2, C3, log_gamma_corr\n",
    "    \n",
    "    def forward_only_SS(self, y, V=None):\n",
    "        # Forward only estimation of expected sufficient statistics\n",
    "        T = len(y)\n",
    "        \n",
    "        if V is None:\n",
    "            V1  = np.eye((self.S))\n",
    "            V2  = np.zeros((self.S,self.S,self.S))\n",
    "            V3  = np.zeros((self.R,self.S,self.S))\n",
    "        else:\n",
    "            V1, V2, V3 = V\n",
    "            \n",
    "        I_S1S = np.eye(self.S).reshape((self.S,1,self.S))\n",
    "        I_RR = np.eye(self.R)\n",
    "        \n",
    "        for k in range(T):\n",
    "            if k==0:\n",
    "                log_alpha_pred = self.logpi\n",
    "            else:\n",
    "                log_alpha_pred = self.predict(log_alpha)\n",
    "\n",
    "            if k>0:\n",
    "                #print(self.S, self.R)\n",
    "                #print(log_alpha)\n",
    "                # Calculate p(x_{k-1}|y_{1:k-1}, x_k) \n",
    "                lp = np.log(normalize_exp(log_alpha)).reshape(self.S,1) + self.logA.T    \n",
    "                P = normalize_exp(lp, axis=0)\n",
    "\n",
    "                # Update\n",
    "                V1 = np.dot(V1, P)             \n",
    "                V2 = np.dot(V2, P) + I_S1S*P.reshape((1,self.S,self.S))    \n",
    "                V3 = np.dot(V3, P) + I_RR[:,y[k-1]].reshape((self.R,1,1))*P.reshape((1,self.S,self.S))    \n",
    "\n",
    "            log_alpha = self.update(y[k], log_alpha_pred)    \n",
    "            p_xT = normalize_exp(log_alpha)    \n",
    "\n",
    "        C1 = np.dot(V1, p_xT.reshape(self.S,1))\n",
    "        C2 = np.dot(V2, p_xT.reshape(1,self.S,1)).reshape((self.S,self.S))\n",
    "        C3 = np.dot(V3, p_xT.reshape(1,self.S,1)).reshape((self.R,self.S))\n",
    "        C3[y[-1],:] +=  p_xT\n",
    "        \n",
    "        ll = log_sum_exp(log_alpha)\n",
    "        \n",
    "        return C1, C2, C3, ll, (V1, V2, V3)\n",
    "\n",
    "    \n",
    "    def train_EM(self, y, EPOCH=10, method=1):\n",
    "        LL = np.zeros(EPOCH)\n",
    "        for e in range(EPOCH):\n",
    "            if method is 'correction_smoother':\n",
    "                C1, C2, C3, log_gamma_corr = self.correction_smoother(y)\n",
    "                ll = log_sum_exp(log_gamma_corr[:,0])\n",
    "            elif method is 'forward_only':\n",
    "                C1, C2, C3, ll, V = self.forward_only_SS(y)\n",
    "            else:\n",
    "                return\n",
    "            LL[e] = ll\n",
    "            p = normalize(C1 + 0.1, axis=0).reshape(self.S)\n",
    "            # print(p,np.size(p))            \n",
    "            A = normalize(C2, axis=0)\n",
    "            # print(A)\n",
    "            B = normalize(C3, axis=0)\n",
    "            # print(B)\n",
    "            self.__init__(p, A, B)\n",
    "            \n",
    "        return LL\n",
    "    \n",
    "    def online_em(self, y, V=None, n_min=100, gamma=0.2, gamma_const=0.999):\n",
    "        T = len(y)\n",
    "        LL = np.zeros(T)\n",
    "        \n",
    "        if V is None:\n",
    "            V1  = np.eye((self.S))\n",
    "            V2  = np.zeros((self.S,self.S,self.S))\n",
    "            V3  = np.zeros((self.R,self.S,self.S))\n",
    "        else:\n",
    "            V1, V2, V3 = V\n",
    "            \n",
    "        I_S1S = np.eye(self.S).reshape((self.S,1,self.S))\n",
    "        I_RR = np.eye(self.R)\n",
    "        \n",
    "        for k in range(T):\n",
    "            # E step\n",
    "            if k==0:\n",
    "                log_alpha_pred = self.logpi\n",
    "            else:\n",
    "                log_alpha_pred = self.predict(log_alpha)\n",
    "\n",
    "            if k>0:\n",
    "                # Calculate p(x_{k-1}|y_{1:k-1}, x_k) \n",
    "                lp = np.log(normalize_exp(log_alpha)).reshape(self.S,1) + self.logA.T    \n",
    "                P = normalize_exp(lp, axis=0)\n",
    "\n",
    "                # Update\n",
    "                V1 = np.dot(V1, P)             \n",
    "                V2 = (1-gamma)*np.dot(V2, P) + gamma*I_S1S*P.reshape((1,self.S,self.S))    \n",
    "                V3 = (1-gamma)*np.dot(V3, P) + gamma*I_RR[:,y[k-1]].reshape((self.R,1,1))*P.reshape((1,self.S,self.S))    \n",
    "\n",
    "            log_alpha = self.update(y[k], log_alpha_pred)    \n",
    "            p_xT = normalize_exp(log_alpha)    \n",
    "        \n",
    "            LL[k] = log_sum_exp(log_alpha)\n",
    "            \n",
    "            # M step\n",
    "            if k > n_min:\n",
    "                C1 = np.dot(V1, p_xT.reshape(self.S,1))\n",
    "                C2 = np.dot(V2, p_xT.reshape(1,self.S,1)).reshape((self.S,self.S))\n",
    "                C3 = np.dot(V3, p_xT.reshape(1,self.S,1)).reshape((self.R,self.S))\n",
    "                C3[y[k],:] +=  p_xT\n",
    "                \n",
    "                p = normalize(C1 + 0.1, axis=0).reshape(self.S)\n",
    "                A = normalize(C2, axis=0)\n",
    "                B = normalize(C3, axis=0)\n",
    "                self.__init__(p, A, B)\n",
    "            \n",
    "            if gamma > 1e-2:\n",
    "                gamma *= gamma_const\n",
    "    \n",
    "        return LL\n",
    "    \n",
    "    \n",
    "            "
   ]
  },
  {
   "cell_type": "markdown",
   "metadata": {},
   "source": [
    "### Test Code"
   ]
  },
  {
   "cell_type": "code",
   "execution_count": 9,
   "metadata": {
    "collapsed": false
   },
   "outputs": [
    {
     "name": "stderr",
     "output_type": "stream",
     "text": [
      "/usr/local/lib/python2.7/dist-packages/ipykernel/__main__.py:64: DeprecationWarning: using a non-integer number instead of an integer will result in an error in the future\n",
      "/usr/local/lib/python2.7/dist-packages/ipykernel/__main__.py:63: DeprecationWarning: using a non-integer number instead of an integer will result in an error in the future\n",
      "/usr/local/lib/python2.7/dist-packages/ipykernel/__main__.py:52: DeprecationWarning: using a non-integer number instead of an integer will result in an error in the future\n"
     ]
    },
    {
     "name": "stdout",
     "output_type": "stream",
     "text": [
      "online_em_lhood=-15448.445738, duration=3.041157\n",
      "random lhood: [-20204.57131669]\n"
     ]
    },
    {
     "name": "stderr",
     "output_type": "stream",
     "text": [
      "/usr/local/lib/python2.7/dist-packages/ipykernel/__main__.py:229: DeprecationWarning: using a non-integer number instead of an integer will result in an error in the future\n",
      "/usr/local/lib/python2.7/dist-packages/ipykernel/__main__.py:241: DeprecationWarning: using a non-integer number instead of an integer will result in an error in the future\n"
     ]
    }
   ],
   "source": [
    "import time\n",
    "hmm_original = HMM.from_random_parameters()\n",
    "L = 10000\n",
    "y,x = hmm_original.generate_sequence(L)\n",
    "\n",
    "# init three random HMM's with the sama parameters\n",
    "hmm = HMM.from_random_parameters()\n",
    "\n",
    "beg = time.time()\n",
    "# train the second one with forward only SS\n",
    "LL3 = hmm.online_em(y)\n",
    "print \"online_em_lhood=%f, duration=%f\" %(LL3[-1],time.time()-beg)\n",
    "\n",
    "hmm_random = HMM.from_random_parameters()\n",
    "print \"random lhood:\", hmm_random.eval_lhood(y)"
   ]
  },
  {
   "cell_type": "code",
   "execution_count": 10,
   "metadata": {
    "collapsed": false,
    "scrolled": true
   },
   "outputs": [
    {
     "name": "stderr",
     "output_type": "stream",
     "text": [
      "/usr/local/lib/python2.7/dist-packages/ipykernel/__main__.py:64: DeprecationWarning: using a non-integer number instead of an integer will result in an error in the future\n",
      "/usr/local/lib/python2.7/dist-packages/ipykernel/__main__.py:63: DeprecationWarning: using a non-integer number instead of an integer will result in an error in the future\n",
      "/usr/local/lib/python2.7/dist-packages/ipykernel/__main__.py:52: DeprecationWarning: using a non-integer number instead of an integer will result in an error in the future\n"
     ]
    },
    {
     "name": "stdout",
     "output_type": "stream",
     "text": [
      "original_lhood=-1387.765107, duration=9.069985\n",
      "correction_smoother_lhood=-1424.921046, duration=8.959090"
     ]
    },
    {
     "name": "stderr",
     "output_type": "stream",
     "text": [
      "/usr/local/lib/python2.7/dist-packages/ipykernel/__main__.py:123: DeprecationWarning: using a non-integer number instead of an integer will result in an error in the future\n",
      "/usr/local/lib/python2.7/dist-packages/ipykernel/__main__.py:130: DeprecationWarning: using a non-integer number instead of an integer will result in an error in the future\n",
      "/usr/local/lib/python2.7/dist-packages/ipykernel/__main__.py:164: DeprecationWarning: using a non-integer number instead of an integer will result in an error in the future\n"
     ]
    },
    {
     "name": "stdout",
     "output_type": "stream",
     "text": [
      "\n",
      "forward_only_ss_lhood=-1424.921046, duration=7.841359"
     ]
    },
    {
     "name": "stderr",
     "output_type": "stream",
     "text": [
      "/usr/local/lib/python2.7/dist-packages/ipykernel/__main__.py:172: DeprecationWarning: using a non-integer number instead of an integer will result in an error in the future\n",
      "/usr/local/lib/python2.7/dist-packages/ipykernel/__main__.py:229: DeprecationWarning: using a non-integer number instead of an integer will result in an error in the future\n"
     ]
    },
    {
     "name": "stdout",
     "output_type": "stream",
     "text": [
      "\n",
      "online_em_lhood=-1693.998292, duration=0.299935\n",
      "random lhood: [-1890.78872614]\n"
     ]
    },
    {
     "name": "stderr",
     "output_type": "stream",
     "text": [
      "/usr/local/lib/python2.7/dist-packages/ipykernel/__main__.py:241: DeprecationWarning: using a non-integer number instead of an integer will result in an error in the future\n"
     ]
    }
   ],
   "source": [
    "# init an hmm and generate data\n",
    "import time\n",
    "hmm_original = HMM.from_random_parameters()\n",
    "L = 1000\n",
    "y,x = hmm_original.generate_sequence(L)\n",
    "\n",
    "\n",
    "beg = time.time()\n",
    "# eval likelihood with the original params\n",
    "LL = hmm_original.train_EM(y, EPOCH=50, method='correction_smoother')\n",
    "print \"original_lhood=%f, duration=%f\" %(LL[-1],time.time()-beg)\n",
    "# plt.plot(LL)\n",
    "# plt.show()\n",
    "\n",
    "# init three random HMM's with the sama parameters\n",
    "hmm1 = HMM.from_random_parameters()\n",
    "hmm2 = hmm1.copy()\n",
    "hmm3 = hmm1.copy()\n",
    "\n",
    "beg = time.time()\n",
    "# train the first one with correction smoother\n",
    "LL1 = hmm1.train_EM(y, EPOCH=50, method='correction_smoother')\n",
    "print \"correction_smoother_lhood=%f, duration=%f\" %(LL1[-1],time.time()-beg)\n",
    "# plt.plot(LL1)\n",
    "# plt.show()\n",
    "\n",
    "beg = time.time()\n",
    "# train the second one with forward only SS\n",
    "LL2 = hmm2.train_EM(y, EPOCH=50, method='forward_only')\n",
    "print \"forward_only_ss_lhood=%f, duration=%f\" %(LL2[-1],time.time()-beg)\n",
    "# plt.plot(LL2)\n",
    "# plt.show()\n",
    "# print \"hmm2:\",hmm2,\"\\n\"\n",
    "\n",
    "beg = time.time()\n",
    "# train the second one with forward only SS\n",
    "LL3 = hmm3.online_em(y)\n",
    "print \"online_em_lhood=%f, duration=%f\" %(LL3[-1],time.time()-beg)\n",
    "# plt.plot(LL3)\n",
    "# plt.show()\n",
    "\n",
    "\n",
    "hmm_random = HMM.from_random_parameters()\n",
    "log_gamma = hmm_random.forward_backward_smoother(y)\n",
    "print \"random lhood:\",log_sum_exp(log_gamma[:,0])"
   ]
  },
  {
   "cell_type": "markdown",
   "metadata": {},
   "source": [
    "### Test Code - 2"
   ]
  },
  {
   "cell_type": "code",
   "execution_count": 11,
   "metadata": {
    "collapsed": false,
    "scrolled": true
   },
   "outputs": [
    {
     "name": "stderr",
     "output_type": "stream",
     "text": [
      "/usr/local/lib/python2.7/dist-packages/ipykernel/__main__.py:64: DeprecationWarning: using a non-integer number instead of an integer will result in an error in the future\n",
      "/usr/local/lib/python2.7/dist-packages/ipykernel/__main__.py:63: DeprecationWarning: using a non-integer number instead of an integer will result in an error in the future\n",
      "/usr/local/lib/python2.7/dist-packages/ipykernel/__main__.py:52: DeprecationWarning: using a non-integer number instead of an integer will result in an error in the future\n"
     ]
    },
    {
     "name": "stdout",
     "output_type": "stream",
     "text": [
      "Results with the Forward Smoother\n",
      "[[  1.32212733e-02]\n",
      " [  9.86698546e-01]\n",
      " [  8.01802557e-05]]\n",
      "1.0\n",
      "[[  5.91202728  29.67219766  29.45631193]\n",
      " [ 45.75258899  54.71403833  50.66886794]\n",
      " [ 13.05584544  67.36475011   2.40337231]]"
     ]
    },
    {
     "name": "stderr",
     "output_type": "stream",
     "text": [
      "/usr/local/lib/python2.7/dist-packages/ipykernel/__main__.py:164: DeprecationWarning: using a non-integer number instead of an integer will result in an error in the future\n",
      "/usr/local/lib/python2.7/dist-packages/ipykernel/__main__.py:172: DeprecationWarning: using a non-integer number instead of an integer will result in an error in the future\n",
      "/usr/local/lib/python2.7/dist-packages/ipykernel/__main__.py:123: DeprecationWarning: using a non-integer number instead of an integer will result in an error in the future\n"
     ]
    },
    {
     "name": "stdout",
     "output_type": "stream",
     "text": [
      "\n",
      "299.0\n",
      "[[  1.79443232e+01   1.19462123e+02   2.59355424e+00]\n",
      " [  2.05176866e+00   2.09113826e+00   1.38570931e+01]\n",
      " [  1.91951953e+01   2.37243939e+01   1.00804108e+01]\n",
      " [  2.39051172e-01   2.45754331e-02   6.73637339e+00]\n",
      " [  2.56234198e+01   6.81996366e+00   4.95566165e+01]]\n",
      "300.0\n",
      "Results with the Correction Smoother\n",
      "[  1.32212733e-02   9.86698546e-01   8.01802557e-05]\n",
      "1.0\n",
      "[[  5.91202728  29.67219766  29.45631193]\n",
      " [ 45.75258899  54.71403833  50.66886794]\n",
      " [ 13.05584544  67.36475011   2.40337231]]\n",
      "299.0\n",
      "[[  1.79443232e+01   1.19462123e+02   2.59355424e+00]\n",
      " [  2.05176866e+00   2.09113826e+00   1.38570931e+01]\n",
      " [  1.91951953e+01   2.37243939e+01   1.00804108e+01]\n",
      " [  2.39051172e-01   2.45754331e-02   6.73637339e+00]\n",
      " [  2.56234198e+01   6.81996366e+00   4.95566165e+01]]\n",
      "300.0\n"
     ]
    },
    {
     "name": "stderr",
     "output_type": "stream",
     "text": [
      "/usr/local/lib/python2.7/dist-packages/ipykernel/__main__.py:130: DeprecationWarning: using a non-integer number instead of an integer will result in an error in the future\n"
     ]
    }
   ],
   "source": [
    "hmm = HMM.from_random_parameters()\n",
    "\n",
    "L = 300\n",
    "\n",
    "y,x = hmm.generate_sequence(L)\n",
    "\n",
    "print(\"Results with the Forward Smoother\")\n",
    "C1, C2, C3, ll, V = hmm.forward_only_SS(y)\n",
    "    \n",
    "print(C1)\n",
    "print(np.sum(C1))\n",
    "\n",
    "print(C2)\n",
    "print(np.sum(C2))\n",
    "\n",
    "print(C3)\n",
    "print(np.sum(C3))\n",
    "\n",
    "print(\"Results with the Correction Smoother\")\n",
    "C1_corr, C2_corr, C3_corr, lg = hmm.correction_smoother(y)\n",
    "\n",
    "print(C1_corr)\n",
    "print(np.sum(C1_corr))\n",
    "\n",
    "print(C2_corr)\n",
    "print(np.sum(C2_corr))\n",
    "\n",
    "print(C3_corr)\n",
    "print(np.sum(C3_corr))"
   ]
  },
  {
   "cell_type": "markdown",
   "metadata": {},
   "source": [
    "# Data Sets"
   ]
  },
  {
   "cell_type": "markdown",
   "metadata": {},
   "source": [
    "### Counting letter bigrams in several languages"
   ]
  },
  {
   "cell_type": "code",
   "execution_count": 25,
   "metadata": {
    "collapsed": false
   },
   "outputs": [],
   "source": [
    "%matplotlib inline\n",
    "from collections import defaultdict\n",
    "import urllib2\n",
    "import string\n",
    "import numpy as np\n",
    "import matplotlib.pyplot as plt\n",
    "from string import maketrans   # Required to call maketrans function.\n",
    "\n",
    "# Turkish\n",
    "#\"ç\",\"ı\",\"ğ\",\"ö\",\"ş\",\"ü\",'â'\n",
    "# German\n",
    "#\"ä\",\"ß\",\"ö\",\"ü\"\n",
    "# French\n",
    "#\"ù\",\"û\",\"ô\",\"â\",\"à\",\"ç\",\"é\",\"è\",\"ê\",\"ë\",\"î\",\"ï\",\"æ\"\n",
    "tr_alphabet = ['*','a','b','c','ç','d','e','f',\n",
    "                'g','ğ','h','ı','i','j','k','l',\n",
    "                'm','n','o','ö','p','q','r','s','ş',\n",
    "                't','u','ü','w','v','x','y','z']\n",
    "# Union of Frequent letters in French, Turkish, German and English\n",
    "my_alphabet = ['*','a','â','ä',\"à\",\"æ\",'b','c','ç','d','e',\"é\",\"è\",\"ê\",\"ë\",'f',\n",
    "                'g','ğ','h','ı','i',\"î\",'ï','j','k','l',\n",
    "                'm','n','o','œ',\"ô\",'ö','p','q','r','s','ş',\n",
    "                't','u','ù',\"û\",'ü','w','v','x','y','z','ß']\n",
    "# Only ascii characters\n",
    "ascii_alphabet = list('*'+string.ascii_lowercase)\n",
    "# Reduction table from my alphabet to ascii\n",
    "my2ascii_table = {\n",
    "    ord(u\"â\"):u\"a\",\n",
    "    ord(u\"ä\"):u\"ae\",\n",
    "    ord(u\"à\"):u\"a\",\n",
    "    ord(u\"æ\"):u\"ae\",\n",
    "    ord(u\"À\"):u\"a\",\n",
    "    ord(u\"Æ\"):u\"a\",\n",
    "    ord(u\"ç\"):u\"c\",\n",
    "    ord(u\"Ç\"):u\"c\",\n",
    "    ord(u\"é\"):u\"e\",\n",
    "    ord(u\"è\"):u\"e\",\n",
    "    ord(u\"ê\"):u\"e\",\n",
    "    ord(u\"ë\"):u\"e\",\n",
    "    ord(u\"È\"):u\"e\",\n",
    "    ord(u\"Ê\"):u\"e\",\n",
    "    ord(u\"É\"):u\"e\",\n",
    "    ord(u\"Ë\"):u\"e\",\n",
    "    ord(u'ğ'):u\"g\",\n",
    "    ord(u'ı'):u\"i\",\n",
    "    ord(u\"î\"):u\"i\",\n",
    "    ord(u\"İ\"):u\"i\",\n",
    "    ord(u'ï'):u\"i\",\n",
    "    ord(u'œ'):u\"oe\",\n",
    "    ord(u\"Ô\"):u\"o\",\n",
    "    ord(u\"ô\"):u\"o\",\n",
    "    ord(u'Ö'):u\"o\",\n",
    "    ord(u'ö'):u\"o\",\n",
    "    ord(u'ş'):u\"s\",\n",
    "    ord(u'Ş'):u\"s\",\n",
    "    ord(u'ù'):u\"u\",\n",
    "    ord(u\"û\"):u\"u\",\n",
    "    ord(u'ü'):u\"u\",\n",
    "    ord(u'Ü'):u\"u\",\n",
    "    ord(u'ß'):u\"ss\"\n",
    "    }\n",
    "# Reduction table from my alphabet to frequent letters in turkish text\n",
    "my2tr_table = {\n",
    "    ord(u'â'):u\"a\",\n",
    "    ord(u'ä'):u\"ae\",\n",
    "    ord(u\"à\"):u\"a\",\n",
    "    ord(u\"æ\"):u\"ae\",\n",
    "    ord(u\"é\"):u\"e\",\n",
    "    ord(u\"è\"):u\"e\",\n",
    "    ord(u\"ê\"):u\"e\",\n",
    "    ord(u\"ë\"):u\"e\",\n",
    "    ord(u\"î\"):u\"i\",\n",
    "    ord(u'ı'):u\"i\",\n",
    "    ord(u'I'):u\"i\",\n",
    "    ord(u'ï'):u\"i\",\n",
    "    ord(u'ş'):u\"s\",\n",
    "    ord(u'Ş'):u\"s\",\n",
    "    ord(u\"ç\"):u\"c\",\n",
    "    ord(u\"Ç\"):u\"c\",\n",
    "    ord(u'ğ'):u\"g\",\n",
    "    ord(u'ü'):u\"u\",\n",
    "    ord(u'œ'):u\"oe\",\n",
    "    ord(u\"ô\"):u\"o\",\n",
    "    ord(u'ù'):u\"u\",\n",
    "    ord(u\"û\"):u\"u\",\n",
    "    ord(u'ß'):u\"ss\"\n",
    "    }\n",
    "\n",
    "\n",
    "def count_transitions(fpp, alphabet, tab):\n",
    "\n",
    "    #ignore punctuation\n",
    "    rep_chars = '.\\t\\n\\rİ»«…’°” '\n",
    "    tbrep = dict((ord(char), u\"*\") for char in rep_chars)\n",
    "    \n",
    "    delete_chars = '0123456789!\"\\'#$%&\\(\\),-/:;<=>?@[\\\\]^_`{|}~+'\n",
    "    tbdel = dict((ord(char), None) for char in delete_chars)\n",
    "    \n",
    "    #replace other unicode characters with a star\n",
    "\n",
    "    # Character pairs \n",
    "    D = defaultdict(int)\n",
    "\n",
    "    for line in fpp:\n",
    "        # s = line.decode('utf-8').translate(tb).lower()\n",
    "        s = line.lower().decode('utf-8', 'ignore')\n",
    "        s = s.translate(tbdel)\n",
    "        s = s.translate(tbrep)\n",
    "        s = s.translate(tab)\n",
    "\n",
    "        if len(s)>1:\n",
    "            for i in range(len(s)-1):\n",
    "                D[s[i:i+2]]+=1\n",
    "    \n",
    "    M = len(alphabet)\n",
    "    a2i = {v: k for k,v in enumerate(alphabet)}\n",
    "    DD = np.zeros((M,M))\n",
    "    \n",
    "    miss = 0\n",
    "    ky = sorted(D.keys())\n",
    "    for k in D.keys():\n",
    "        try:\n",
    "            i = a2i[k[0]]\n",
    "            j = a2i[k[1]]\n",
    "            DD[i,j] = D[k]\n",
    "        except:\n",
    "            miss += 1\n",
    "            # print k[0], k[1]\n",
    "    print \"miss is %d\" % miss\n",
    "\n",
    "    return D, DD, alphabet"
   ]
  },
  {
   "cell_type": "markdown",
   "metadata": {},
   "source": [
    "### Count and display occurences of letters in text"
   ]
  },
  {
   "cell_type": "code",
   "execution_count": 13,
   "metadata": {
    "collapsed": false
   },
   "outputs": [
    {
     "name": "stdout",
     "output_type": "stream",
     "text": [
      "t ’\n",
      "’ m\n",
      "g ’\n",
      "’ a\n",
      "t …\n",
      "… s\n",
      "… d\n",
      "z …\n",
      "… *\n",
      "… ”\n",
      "’ i\n",
      "’ l\n",
      "’ n\n",
      "’ e\n",
      "’ d\n",
      "’ y\n",
      "’ u\n",
      "’ t\n",
      "s ’\n",
      "y …\n",
      "l ’\n",
      "l …\n",
      "r ”\n",
      "e …\n",
      "r …\n",
      "e ’\n",
      "k …\n",
      "* “\n",
      "d ’\n",
      "” *\n",
      "“ p\n",
      "“ b\n",
      "c ’\n",
      "i …\n",
      "i ’\n",
      "o ’\n",
      "u …\n",
      "a …\n",
      "n …\n",
      "a ’\n",
      "miss is 40\n",
      "﻿ p\n",
      "miss is 1\n",
      "﻿ t\n",
      "miss is 1\n",
      "miss is 0\n",
      "miss is 0\n",
      "miss is 0\n",
      "miss is 0\n",
      "miss is 0\n"
     ]
    },
    {
     "data": {
      "image/png": "[encoded data removed]",
      "text/plain": [
       "<matplotlib.figure.Figure at 0x7f8edb782890>"
      ]
     },
     "metadata": {},
     "output_type": "display_data"
    }
   ],
   "source": [
    "local = 'data/'\n",
    "#local = 'https://dl.dropboxusercontent.com/u/9787379/swe546/data/'\n",
    "#files = ['starwars_4.txt', 'starwars_5.txt', 'starwars_6.txt', 'hamlet.txt','hamlet_deutsch.txt', 'hamlet_french.txt', 'juliuscaesar.txt','othello.txt', 'sonnets.txt', 'antoniusandcleopatra.txt']\n",
    "files = ['hamlet_turkce.txt','hamlet_deutsch.txt', 'hamlet_french.txt', 'hamlet.txt','starwars_4.txt', 'starwars_5.txt','juliuscaesar.txt','othello.txt']\n",
    "\n",
    "plt.figure(figsize=(16,18))\n",
    "\n",
    "i = 0\n",
    "for f in files:\n",
    "    path = local+f\n",
    "    # data = urlopen(url) \n",
    "    # data = urllib2.urlopen(url).read()\n",
    "    data = open(path,\"rb\")\n",
    "    #D, DD, alphabet = count_transitions(data, my_alphabet, {})\n",
    "    D, DD, alphabet = count_transitions(data, ascii_alphabet, my2ascii_table)\n",
    "    #D, DD, alphabet = count_transitions(data, tr_alphabet, my2tr_table)\n",
    "    M = len(alphabet)\n",
    "    # Ignore space, space transitions\n",
    "    DD[0,0] = 1\n",
    "    \n",
    "    i+=1\n",
    "    plt.subplot(len(files)/2,2,i)\n",
    "        \n",
    "    S = np.sum(DD,axis=0)\n",
    "    #Subpress spaces\n",
    "    S[0] = 0\n",
    "    S = S/np.sum(S)\n",
    "\n",
    "    plt.bar(np.arange(M)-0.5, S, width=0.7)\n",
    "    plt.xticks(range(M), alphabet)\n",
    "    plt.gca().set_ylim((0,0.2))\n",
    "    plt.title(f)\n",
    "\n",
    "plt.show()"
   ]
  },
  {
   "cell_type": "markdown",
   "metadata": {},
   "source": [
    "### Counting Bigrams "
   ]
  },
  {
   "cell_type": "code",
   "execution_count": 26,
   "metadata": {
    "collapsed": false
   },
   "outputs": [
    {
     "name": "stdout",
     "output_type": "stream",
     "text": [
      "miss is 40\n",
      "miss is 1\n",
      "miss is 1\n",
      "miss is 0\n",
      "miss is 0\n",
      "miss is 0\n",
      "miss is 0\n",
      "miss is 0\n"
     ]
    },
    {
     "data": {
      "image/png": "[encoded data removed]",
      "text/plain": [
       "<matplotlib.figure.Figure at 0x7f8eda15e190>"
      ]
     },
     "metadata": {},
     "output_type": "display_data"
    }
   ],
   "source": [
    "local = 'data/'\n",
    "#local = 'https://dl.dropboxusercontent.com/u/9787379/swe546/data/'\n",
    "\n",
    "#files = ['starwars_4.txt', 'starwars_5.txt', 'starwars_6.txt', 'hamlet.txt', 'hamlet_deutsch.txt', 'hamlet_french.txt', 'juliuscaesar.txt','othello.txt', 'sonnets.txt', 'antoniusandcleopatra.txt']\n",
    "files = ['hamlet_turkce.txt','hamlet_deutsch.txt', 'hamlet_french.txt', 'hamlet.txt','starwars_4.txt', 'starwars_5.txt','juliuscaesar.txt','othello.txt']\n",
    "\n",
    "plt.figure(figsize=(17,2*17))\n",
    "\n",
    "i = 0\n",
    "for f in files: \n",
    "    path = local+f\n",
    "    data = open(path,\"rb\")\n",
    "    D, DD, alphabet = count_transitions(data, ascii_alphabet, my2ascii_table)\n",
    "    # D, DD, alphabet = count_transitions(data, tr_alphabet, my2tr_table)\n",
    "    M = len(alphabet)\n",
    "    DD[0,0] = 1\n",
    "    \n",
    "    \n",
    "    i+=1\n",
    "    plt.subplot(len(files)/2,2,i)\n",
    "    plt.imshow(DD, interpolation='nearest', vmin=0)\n",
    "    plt.xticks(range(M), alphabet)\n",
    "    plt.xlabel('x(t)')\n",
    "    plt.yticks(range(M), alphabet)\n",
    "    plt.ylabel('x(t-1)')\n",
    "    '''\n",
    "    ax = plt.gca()\n",
    "    ax.xaxis.tick_top()\n",
    "    #ax.set_title(f, va='bottom')\n",
    "    plt.xlabel('x(t) '+f)\n",
    "    '''\n",
    "    "
   ]
  },
  {
   "cell_type": "markdown",
   "metadata": {},
   "source": [
    "### Normalized probability table of $p(x_t|x_{t−1})$"
   ]
  },
  {
   "cell_type": "code",
   "execution_count": null,
   "metadata": {
    "collapsed": false
   },
   "outputs": [],
   "source": [
    "def normalize(A, axis=0):\n",
    "    Z = np.sum(A, axis=axis,keepdims=True)\n",
    "    idx = np.where(Z == 0)\n",
    "    Z[idx] = 1\n",
    "    return A/Z\n",
    "\n",
    "local = 'data/'\n",
    "#local = 'https://dl.dropboxusercontent.com/u/9787379/swe546/data/'\n",
    "\n",
    "file = 'hamlet_turkce.txt'\n",
    "data = urlopen(local+file) \n",
    "D, DD, alphabet = count_transitions(data, tr_alphabet, my2tr_table)\n",
    "\n",
    "\n",
    "plt.figure(figsize=(9,9))\n",
    "\n",
    "T = normalize(DD, axis=1)\n",
    "\n",
    "\n",
    "plt.imshow(T, interpolation='nearest', vmin=0)\n",
    "plt.xticks(range(M), alphabet)\n",
    "plt.yticks(range(M), alphabet)\n",
    "plt.gca().xaxis.tick_top()\n",
    "\n",
    "plt.show()"
   ]
  },
  {
   "cell_type": "code",
   "execution_count": null,
   "metadata": {
    "collapsed": true
   },
   "outputs": [],
   "source": []
  }
 ],
 "metadata": {
  "kernelspec": {
   "display_name": "Python 2",
   "language": "python",
   "name": "python2"
  },
  "language_info": {
   "codemirror_mode": {
    "name": "ipython",
    "version": 2
   },
   "file_extension": ".py",
   "mimetype": "text/x-python",
   "name": "python",
   "nbconvert_exporter": "python",
   "pygments_lexer": "ipython2",
   "version": "2.7.6"
  }
 },
 "nbformat": 4,
 "nbformat_minor": 0
}
