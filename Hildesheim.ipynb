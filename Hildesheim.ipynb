{
 "cells": [
  {
   "cell_type": "code",
   "execution_count": 1,
   "metadata": {
    "collapsed": false
   },
   "outputs": [
    {
     "data": {
      "text/html": [
       "<style>.container { width:100% !important; }</style>"
      ],
      "text/plain": [
       "<IPython.core.display.HTML object>"
      ]
     },
     "metadata": {},
     "output_type": "display_data"
    }
   ],
   "source": [
    "%run include/utils.py\n",
    "%matplotlib inline "
   ]
  },
  {
   "cell_type": "code",
   "execution_count": 2,
   "metadata": {
    "collapsed": true
   },
   "outputs": [],
   "source": [
    "\n",
    "\n",
    "\n",
    "def draw_points(X, N1, xlim_, ylim_, title_='', W=None):\n",
    "    plt.figure()\n",
    "    plt.plot(X[:N1,0],X[:N1,1], 'b+')\n",
    "    plt.plot(X[N1:,0],X[N1:,1], 'r*')\n",
    "    plt.title(title_)\n",
    "    plt.xlim(xlim_)\n",
    "    plt.ylim(ylim_)\n",
    "    \n",
    "    if W is not None:\n",
    "        x_ = np.arange(np.min(X),np.max(X),1e-2)\n",
    "        y_ = (-x_*W[1]-W[0])/W[2]\n",
    "        plt.plot(x_, y_, 'm-')\n",
    "        \n",
    "def gen_data_gauss(N1=50, N2=50, N3=50, draw=False,\n",
    "                  center1 = np.array([2,8]),\n",
    "                  center2 = np.array([5,5]),\n",
    "                  center3 = np.array([8,2]),\n",
    "                  var1 = np.array([1.2,1,1,1.2]).reshape((2,2)),\n",
    "                  var2 = np.array([1.2,1,1,1.2]).reshape((2,2)),\n",
    "                  var3 = np.array([1.0,1,1,1.0]).reshape((2,2))):\n",
    "    # data stay in rows\n",
    "    S1 = np.random.multivariate_normal(center1,var1,(N1))\n",
    "    S2 = np.random.multivariate_normal(center2,var2,(N2))\n",
    "    S3 = np.random.multivariate_normal(center3,var3,(N3))\n",
    "    S1 = np.vstack((S1,S2))\n",
    "    N1 = N1+N2\n",
    "    # data matrix\n",
    "    X = np.vstack((S1,S3))\n",
    "    R = np.hstack((np.ones(len(S1)),-1*np.ones(len(S2))))\n",
    "    if draw:\n",
    "        draw_points(X, N1, [-2,12], [-2,12], title_=\"data points\")\n",
    "    return X, R, N1, N2"
   ]
  },
  {
   "cell_type": "markdown",
   "metadata": {},
   "source": [
    "# Problem-1"
   ]
  },
  {
   "cell_type": "markdown",
   "metadata": {},
   "source": [
    "### Notation\n",
    "- Indices:\n",
    "  - $n$ over samples\n",
    "  - $m$ over data dimensions\n",
    "  - $k$ over groups\n",
    "\n",
    "\n",
    "- Samples: \n",
    "  - $(x_n, y_n)$ \n",
    "  - $n \\in \\{1,\\ldots,N\\}$\n",
    "  - $x_n \\in \\mathcal{R}^M$\n",
    "  - $y_n \\in \\{-1,1\\}$\n",
    "  - For notational conveince, set $x_n := [1, x_n^T]^T$. Now, $x_n \\in \\mathcal{R}^{M+1}$\n",
    "  - Data stored in the **columns** of an $(M+1)\\times N$ dimensional matrix $\\mathbf{X}$ and class labels in $\\mathbf{y} \\in \\mathcal{R}^N$.\n",
    "  - So, $x_{m,n}$ is the value of the $m$'th dimension of the $n$ sample.\n",
    "  \n",
    "  \n",
    " - Weights:\n",
    "  - First, define $K$ to be the number of groups, a fixed number.\n",
    "  - Weights stored in the **rows** of an $K\\times(M+1)$ dimensional matrix $\\mathbf{W}$.\n",
    "  - So, $w_{k,m}$ is the weight for the $m$'th dimension in $k$'th group.\n",
    "  \n",
    "  \n",
    " - Group probabilities (latent, not necassarily normalized):\n",
    "  - The group probability of $x_n$ is stored in $n$'th the **row** of an $N \\times K$ dimensional matrix $\\mathbf{Z}$.\n",
    "  - So, $z_{n,k}$ is the (unnormalized) probability of the $n$'th sample being in $k$'th group.\n",
    "  \n",
    "#### The risk for $n$'th sample:\n",
    "\\begin{align}\n",
    "\\hat{y}(x_n) &= \\sum_{k=1}^K z_{n,k} \\left( \\sum_{m=0}^M w_{k,m}x_{m,n} \\right) \\\\\n",
    "&= \\sum_{k=1}^K z_{n,k} \\mathbf{X}[:,n] \\mathbf{W}[k,:]\n",
    "\\end{align}\n",
    "\n",
    "#### The overall risk:\n",
    "\\begin{align}\n",
    "\\text{risk}(\\hat{y}; \\mathbf{X}, \\mathbf{y}) = -\\sum_{n=1}^N y_n \\hat{y}(x_n) \n",
    "\\end{align}\n",
    "\n",
    "#### Regularization:\n",
    "\\begin{align}\n",
    "r_z &= \\sum_{k=1}^K \\sum_{n=1}^N z_{n,k} \\log(z_{n,k}) \\\\\n",
    "r_w &= \\sum_{k=1}^K \\sum_{m=1}^M w_{k,m}^2\n",
    "\\end{align}\n",
    "\n",
    "### The objective function:\n",
    "\\begin{align}\n",
    "f(\\mathbf{W},\\mathbf{Z}; \\mathbf{X}, \\mathbf{y}) = -\\sum_{n=1}^N y_n \\left( \\sum_{k=1}^K z_{n,k} \\left( \\sum_{m=0}^M w_{k,m}x_{m,n} \\right) \\right) + \\lambda \\sum_{k=1}^K \\sum_{n=1}^N z_{n,k} \\log(z_{n,k}) + \\mu \\sum_{k=1}^K \\sum_{m=1}^M w_{k,m}^2\n",
    "\\end{align}\n",
    "\n",
    "### Partial derivatives\n",
    "We now need partial derivatives for the optimization parameters: $w_{k,m}$ and $z_{n,k}$\n",
    "\\begin{align}\n",
    "\\frac{\\partial f}{\\partial w_{k,m}} &= -\\sum_{n=1}^N y_n x_{m,n} z_{n,k} + 2\\mu w_{k,m} \\\\\n",
    "\\frac{\\partial f}{\\partial z_{n,k}} &= -y_n \\sum_{m=0}^M w_{k,m}x_{m,n} + \\lambda(\\log z_{n,k} +1)\n",
    "\\end{align}\n",
    "Because the objective is minimization, we move in the negative direction of the gradient: $w_{k,m} := w_{k,m} - \\frac{\\partial f}{\\partial w_{k,m}}$ and $z_{n,k} := z_{n,k}-\\frac{\\partial f}{\\partial z_{n,k}}$\n",
    "\n",
    "### The learning algorithm:\n",
    "- Indices:\n",
    "  - N: number of samples\n",
    "  - M: dimensionality\n",
    "  - K: number of groups \n",
    "- Initialize \n",
    "  - $\\mathbf{W} \\in K\\times(M+1)$\n",
    "  - $\\mathbf{Z} \\in N \\times K$\n",
    "- Set \n",
    "  - $x_n:= [1, x_n^T]^T$ for all $n\\in \\{1,\\ldots,N\\}$\n",
    "  - learning rate $\\eta=0.01$\n",
    "  - regularizer for group parameters $\\lambda=0.01$\n",
    "  - regularizer for weights $\\mu=0.01$\n",
    "- Iterate until convergence\n",
    "\\begin{align}\n",
    "w_{k,m} &:= w_{k,m} + \\eta\\left( \\sum_{n=1}^N y_n x_{m,n} z_{n,k} - 2\\mu w_{k,m}[m \\neq 0] \\right) \\\\\n",
    "z_{n,k} &:= z_{n,k} + \\eta\\left( y_n \\sum_{m=0}^M w_{k,m}x_{m,n} - \\lambda(\\log z_{n,k} +1) \\right)\n",
    "\\end{align}"
   ]
  },
  {
   "cell_type": "code",
   "execution_count": 3,
   "metadata": {
    "collapsed": false
   },
   "outputs": [
    {
     "name": "stdout",
     "output_type": "stream",
     "text": [
      "150\n",
      "2\n",
      "3\n",
      "[[ 4.20476271  2.34965321  0.80710398]\n",
      " [ 3.00266085 -0.77594158  0.93970313]\n",
      " [ 2.89758021 -2.91020501  0.59825153]]\n",
      "[[ 7.65406888  5.68293584  0.80710398]\n",
      " [ 5.47986227 -2.28126757  0.93970313]\n",
      " [ 4.87229842 -7.82699205  0.59825153]]\n",
      "[[        nan         nan  0.80710398]\n",
      " [ 7.8689572  -4.45605108  0.93970313]\n",
      " [        nan         nan  0.59825153]]\n",
      "[[        nan         nan  0.80710398]\n",
      " [ 7.8689572  -4.45605108  0.93970313]\n",
      " [        nan         nan  0.59825153]]\n"
     ]
    },
    {
     "data": {
      "image/png": "[encoded data removed]",
      "text/plain": [
       "<matplotlib.figure.Figure at 0x7f068ec1be80>"
      ]
     },
     "metadata": {},
     "output_type": "display_data"
    }
   ],
   "source": [
    "X, Y, N1, N2 = gen_data_gauss()\n",
    "[N,M] = X.shape\n",
    "K = 3\n",
    "MAX_ITER = 3\n",
    "eta = 0.01\n",
    "lamb = 0.001\n",
    "mu = 0.1\n",
    "print(N)\n",
    "print(M)\n",
    "print(K)\n",
    "\n",
    "X = np.hstack((np.ones(N1+N2).reshape((-1,1)),X)).transpose() # M+1 x N\n",
    "W = np.random.random((K,M+1))\n",
    "Z = np.random.random((N,K))*10\n",
    "\n",
    "for s in range(MAX_ITER):\n",
    "    for k in range(K):\n",
    "        for m in range(M):\n",
    "            tmp = 0\n",
    "            for n in range(N):\n",
    "                tmp += X[m,n]*Z[n,k]*Y[n]\n",
    "            W[k,m] = W[k,m] + eta*(tmp-2*mu*W[k,m]*(m!=0))\n",
    "    for k in range(K):\n",
    "        for n in range(N):\n",
    "            tmp = 0\n",
    "            for m in range(M):\n",
    "                tmp += W[k,m]*X[m,n]*Y[n]\n",
    "            Z[n,k] = Z[n,k] + eta*(tmp-lamb*(np.log(Z[n,k])+1))\n",
    "            Z[n,k] = Z[n,k]*(Z[n,k]<0) + Z[n,k]*(Z[n,k]>0)\n",
    "    print(W)\n",
    "            \n",
    "print(W)\n",
    "\n",
    "plt.figure()\n",
    "plt.plot(X[1,:N1],X[2,:N1], 'b+')\n",
    "plt.plot(X[1,N1:],X[2,N1:], 'r*')\n",
    "plt.xlim([-2,12])\n",
    "plt.ylim([-2,12])\n",
    "for k in range(K):\n",
    "    x_ = np.arange(np.min(X),np.max(X),1e-2)\n",
    "    y_ = (-x_*W[k,1]-W[k,0])/W[k,2]\n",
    "    plt.plot(x_, y_, 'm-')\n",
    "        "
   ]
  },
  {
   "cell_type": "markdown",
   "metadata": {},
   "source": [
    "# Problem-2"
   ]
  },
  {
   "cell_type": "markdown",
   "metadata": {},
   "source": [
    "### Loading the data set"
   ]
  },
  {
   "cell_type": "code",
   "execution_count": 5,
   "metadata": {
    "collapsed": false
   },
   "outputs": [
    {
     "name": "stdout",
     "output_type": "stream",
     "text": [
      "65123 samples, each 123 dimensional.\n"
     ]
    }
   ],
   "source": [
    "from sklearn.datasets import load_svmlight_file\n",
    "from scipy import sparse\n",
    "[X,y] = load_svmlight_file(\"data/A9A\")\n",
    "[L, N] = X.shape\n",
    "print(str(L) + \" samples, each \" + str(N) + \" dimensional.\")\n",
    "\n",
    "C = 20\n",
    "L1_SVM = 1\n",
    "if L1_SVM:\n",
    "    U = C\n",
    "else:\n",
    "    U = 1e10\n",
    "RESULT_FOLDER = \"data/weights/\"\n",
    "MAX_ITER = 50"
   ]
  },
  {
   "cell_type": "markdown",
   "metadata": {},
   "source": [
    "### Running the algorithm"
   ]
  },
  {
   "cell_type": "code",
   "execution_count": 14,
   "metadata": {
    "collapsed": false,
    "scrolled": true
   },
   "outputs": [
    {
     "name": "stdout",
     "output_type": "stream",
     "text": [
      "(1169,)\n",
      "(1169,)\n"
     ]
    },
    {
     "ename": "IndexError",
     "evalue": "too many indices for array",
     "output_type": "error",
     "traceback": [
      "\u001b[1;31m---------------------------------------------------------------------------\u001b[0m",
      "\u001b[1;31mIndexError\u001b[0m                                Traceback (most recent call last)",
      "\u001b[1;32m<ipython-input-14-eb80557bcf93>\u001b[0m in \u001b[0;36m<module>\u001b[1;34m()\u001b[0m\n\u001b[0;32m      8\u001b[0m     \u001b[0mprint\u001b[0m\u001b[1;33m(\u001b[0m\u001b[0mx_\u001b[0m\u001b[1;33m.\u001b[0m\u001b[0mshape\u001b[0m\u001b[1;33m)\u001b[0m\u001b[1;33m\u001b[0m\u001b[0m\n\u001b[0;32m      9\u001b[0m     \u001b[0mprint\u001b[0m\u001b[1;33m(\u001b[0m\u001b[0mtmp\u001b[0m\u001b[1;33m.\u001b[0m\u001b[0mshape\u001b[0m\u001b[1;33m)\u001b[0m\u001b[1;33m\u001b[0m\u001b[0m\n\u001b[1;32m---> 10\u001b[1;33m     \u001b[0mQii\u001b[0m\u001b[1;33m[\u001b[0m\u001b[0ml\u001b[0m\u001b[1;33m]\u001b[0m \u001b[1;33m=\u001b[0m \u001b[0mtmp\u001b[0m\u001b[1;33m[\u001b[0m\u001b[1;36m0\u001b[0m\u001b[1;33m,\u001b[0m\u001b[1;36m0\u001b[0m\u001b[1;33m]\u001b[0m\u001b[1;33m\u001b[0m\u001b[0m\n\u001b[0m\u001b[0;32m     11\u001b[0m \u001b[1;33m\u001b[0m\u001b[0m\n\u001b[0;32m     12\u001b[0m \u001b[1;32mfor\u001b[0m \u001b[0mit\u001b[0m \u001b[1;32min\u001b[0m \u001b[0mrange\u001b[0m\u001b[1;33m(\u001b[0m\u001b[0mMAX_ITER\u001b[0m\u001b[1;33m)\u001b[0m\u001b[1;33m:\u001b[0m\u001b[1;33m\u001b[0m\u001b[0m\n",
      "\u001b[1;31mIndexError\u001b[0m: too many indices for array"
     ]
    }
   ],
   "source": [
    "alpha = np.zeros((1,L))\n",
    "w0 = 0\n",
    "w = np.zeros((1,N))\n",
    "\n",
    "Qii = np.zeros(L)\n",
    "for l in range(L):\n",
    "    tmp = x_*x_.T\n",
    "    print(tmp.shape)\n",
    "    Qii[l] = tmp[0,0]\n",
    "\n",
    "for it in range(MAX_ITER):\n",
    "    now_ = time.time()\n",
    "    for i in range(L):\n",
    "        # step-1\n",
    "        x_ = X[i,:].todense().reshape(N)\n",
    "        G = (y[i]*x_*w.T - 1)[0,0] + (1-L1_SVM)/(2*C) \n",
    "        # step-2\n",
    "        if alpha[0,i]==0:\n",
    "            PG = np.min(G,0)\n",
    "        elif alpha[0,i] == U:\n",
    "            PG = np.max(G,0)\n",
    "        elif 0<alpha[0,i] and alpha[0,i]<U:\n",
    "            PG = G\n",
    "        # step-3\n",
    "        if np.abs(PG)!=0:\n",
    "            alpha_old = alpha[0,i]\n",
    "            # Qii = (x_*x_.T)[0,0]\n",
    "            alpha[0,i] = min(max(alpha[0,i]-G/Qii[i],0),U)\n",
    "            w = w + (alpha[0,i]-alpha_old)*y[i]*x_\n",
    "            w0 = w0 + (alpha[0,i]-alpha_old)*y[i] \n",
    "    w_ = np.hstack((w,np.array(w0).reshape((1,1))))\n",
    "    np.savetxt(RESULT_FOLDER+\"w\"+str(it)+\".txt\",w_)\n",
    "    print(\"iteration: \" + str(it) + \", duration: \" + str(int(time.time()-now_)) + \" seconds.\")"
   ]
  },
  {
   "cell_type": "markdown",
   "metadata": {},
   "source": [
    "### Plot the convergence"
   ]
  },
  {
   "cell_type": "code",
   "execution_count": null,
   "metadata": {
    "collapsed": false
   },
   "outputs": [],
   "source": [
    "diff = []\n",
    "w_old = np.loadtxt(RESULT_FOLDER+\"w0.txt\")\n",
    "for i in range(1,MAX_ITER):\n",
    "    w = np.loadtxt(RESULT_FOLDER+\"w\"+str(i)+\".txt\")\n",
    "    diff_ = np.abs(np.sum(w-w_old))/len(w)\n",
    "    diff.append(diff_)\n",
    "    w_old = w\n",
    "\n",
    "plt.figure(figsize=(18,5))\n",
    "plt.plot(diff, '*-b')\n",
    "plt.xlabel(\"iteration number\")\n",
    "plt.ylabel(\"the change in weights (per weight)\")\n",
    "plt.ylim([0,np.max(diff)])"
   ]
  },
  {
   "cell_type": "markdown",
   "metadata": {},
   "source": [
    "### Print and plot accuracy"
   ]
  },
  {
   "cell_type": "code",
   "execution_count": null,
   "metadata": {
    "collapsed": false
   },
   "outputs": [],
   "source": [
    "acc = []\n",
    "for it in range(MAX_ITER):\n",
    "    w_ = np.loadtxt(RESULT_FOLDER+\"w\"+str(it)+\".txt\")\n",
    "    w0 = w_[-1]\n",
    "    w = w_[:-2] # ignore the last weight and omit w0 appended at the end of w \n",
    "\n",
    "    # load the data set\n",
    "    [Xt,yt] = load_svmlight_file(\"data/A9A.t\")\n",
    "    [Lt, Nt] = Xt.shape\n",
    "    y_res = np.zeros(Lt)\n",
    "\n",
    "    # compute my results\n",
    "    for i in range(Lt):\n",
    "        y_res[i] = (Xt[i]*w)[0]+w0\n",
    "\n",
    "    acc_ = 1-np.sum(np.array(yt*y_res)<0)/len(y_res)\n",
    "    acc.append(acc_)\n",
    "    print(\"accuracy: \" + str(acc_))\n",
    "\n",
    "plt.figure(figsize=(18,5))\n",
    "plt.plot(acc, '*-b')\n",
    "plt.xlabel(\"iteration number\")\n",
    "plt.ylabel(\"accuracy\")\n",
    "plt.ylim([np.min(acc),np.max(acc)])"
   ]
  },
  {
   "cell_type": "markdown",
   "metadata": {},
   "source": [
    "# Problem-3"
   ]
  },
  {
   "cell_type": "markdown",
   "metadata": {},
   "source": [
    " - Clustering the data to start with good initial $K$ and $\\mathbf{Z}$ values.\n",
    " - k-fold cross validation for model parameters\n",
    " - linear regression but with basis functions\n",
    " - Do not compute gradient if $x_{n,m}$ is zero\n",
    " - What ensures the positivity of $z_{n,k}$?"
   ]
  },
  {
   "cell_type": "code",
   "execution_count": null,
   "metadata": {
    "collapsed": false
   },
   "outputs": [],
   "source": [
    "%connect_info"
   ]
  },
  {
   "cell_type": "markdown",
   "metadata": {},
   "source": []
  }
 ],
 "metadata": {
  "kernelspec": {
   "display_name": "Python 3",
   "language": "python",
   "name": "python3"
  },
  "language_info": {
   "codemirror_mode": {
    "name": "ipython",
    "version": 3
   },
   "file_extension": ".py",
   "mimetype": "text/x-python",
   "name": "python",
   "nbconvert_exporter": "python",
   "pygments_lexer": "ipython3",
   "version": "3.5.3"
  }
 },
 "nbformat": 4,
 "nbformat_minor": 0
}
