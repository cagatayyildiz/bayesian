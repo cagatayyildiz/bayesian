{
 "cells": [
  {
   "cell_type": "code",
   "execution_count": 1,
   "metadata": {
    "collapsed": false
   },
   "outputs": [
    {
     "data": {
      "text/html": [
       "<style>.container { width:100% !important; }</style>"
      ],
      "text/plain": [
       "<IPython.core.display.HTML object>"
      ]
     },
     "metadata": {},
     "output_type": "display_data"
    }
   ],
   "source": [
    "%run include/utils.py\n",
    "%matplotlib inline "
   ]
  },
  {
   "cell_type": "code",
   "execution_count": 21,
   "metadata": {
    "collapsed": true
   },
   "outputs": [],
   "source": [
    "def plot_matrix(X, title='Title', xlabel='xlabel', ylabel='ylabel', figsize=None):\n",
    "    if figsize is None:\n",
    "        plt.figure(figsize=(25,6))\n",
    "    else:\n",
    "        plt.figure(figsize=figsize)\n",
    "    plt.imshow(X, interpolation='none', vmax=np.max(X), vmin=0, aspect='auto')\n",
    "    plt.colorbar()\n",
    "    plt.set_cmap('gray_r')\n",
    "    plt.xlabel(xlabel)\n",
    "    plt.ylabel(ylabel)\n",
    "    plt.title(title)\n",
    "\n",
    "\n",
    "def draw_points(X, N1, xlim_, ylim_, title_='', W=None):\n",
    "    plt.figure()\n",
    "    plt.plot(X[:N1,0],X[:N1,1], 'b+')\n",
    "    plt.plot(X[N1:,0],X[N1:,1], 'r*')\n",
    "    plt.title(title_)\n",
    "    plt.xlim(xlim_)\n",
    "    plt.ylim(ylim_)\n",
    "    \n",
    "    if W is not None:\n",
    "        x_ = np.arange(np.min(X),np.max(X),1e-2)\n",
    "        y_ = (-x_*W[1]-W[0])/W[2]\n",
    "        plt.plot(x_, y_, 'm-')\n",
    "        \n",
    "def gen_data_gauss(N1=50, N2=50, N3=50, draw=False,\n",
    "                  center1 = np.array([2,8]),\n",
    "                  center2 = np.array([5,5]),\n",
    "                  center3 = np.array([8,2]),\n",
    "                  var1 = np.array([1.2,1,1,1.2]).reshape((2,2)),\n",
    "                  var2 = np.array([1.2,1,1,1.2]).reshape((2,2)),\n",
    "                  var3 = np.array([1.0,1,1,1.0]).reshape((2,2))):\n",
    "    # data stay in rows\n",
    "    S1 = np.random.multivariate_normal(center1,var1,(N1))\n",
    "    S2 = np.random.multivariate_normal(center2,var2,(N2))\n",
    "    S3 = np.random.multivariate_normal(center3,var3,(N3))\n",
    "    S1 = np.vstack((S1,S2))\n",
    "    N1 = N1+N2\n",
    "    # data matrix\n",
    "    X = np.vstack((S1,S3))\n",
    "    R = np.hstack((np.ones(len(S1)),-1*np.ones(len(S2))))\n",
    "    if draw:\n",
    "        draw_points(X, N1, [-2,12], [-2,12], title_=\"data points\")\n",
    "    return X, R, N1, N2"
   ]
  },
  {
   "cell_type": "markdown",
   "metadata": {},
   "source": [
    "# Problem-1"
   ]
  },
  {
   "cell_type": "markdown",
   "metadata": {},
   "source": [
    "### Notation\n",
    "- Indices:\n",
    "  - $n$ over samples\n",
    "  - $m$ over data dimensions\n",
    "  - $k$ over groups\n",
    "\n",
    "\n",
    "- Samples: \n",
    "  - $(x_n, y_n)$ \n",
    "  - $n \\in \\{1,\\ldots,N\\}$\n",
    "  - $x_n \\in \\mathcal{R}^M$\n",
    "  - $y_n \\in \\{-1,1\\}$\n",
    "  - For notational conveince, set $x_n := [1, x_n^T]^T$. Now, $x_n \\in \\mathcal{R}^{M+1}$\n",
    "  - Data stored in the **columns** of an $(M+1)\\times N$ dimensional matrix $\\mathbf{X}$ and class labels in $\\mathbf{y} \\in \\mathcal{R}^N$.\n",
    "  - So, $x_{m,n}$ is the value of the $m$'th dimension of the $n$ sample.\n",
    "  \n",
    "  \n",
    " - Weights:\n",
    "  - First, define $K$ to be the number of groups, a fixed number.\n",
    "  - Weights stored in the **rows** of an $K\\times(M+1)$ dimensional matrix $\\mathbf{W}$.\n",
    "  - So, $w_{k,m}$ is the weight for the $m$'th dimension in $k$'th group.\n",
    "  \n",
    "  \n",
    " - Group probabilities (latent, not necassarily normalized):\n",
    "  - The group probability of $x_n$ is stored in $n$'th the **row** of an $N \\times K$ dimensional matrix $\\mathbf{Z}$.\n",
    "  - So, $z_{n,k}$ is the (unnormalized) probability of the $n$'th sample being in $k$'th group.\n",
    "  \n",
    "#### The risk for $n$'th sample:\n",
    "\\begin{align}\n",
    "\\hat{y}(x_n) &= \\sum_{k=1}^K z_{n,k} \\left( \\sum_{m=0}^M w_{k,m}x_{m,n} \\right) \\\\\n",
    "&= \\sum_{k=1}^K z_{n,k} \\mathbf{X}[:,n] \\mathbf{W}[k,:]\n",
    "\\end{align}\n",
    "\n",
    "#### The overall risk:\n",
    "\\begin{align}\n",
    "\\text{risk}(\\hat{y}; \\mathbf{X}, \\mathbf{y}) = -\\sum_{n=1}^N y_n \\hat{y}(x_n) \n",
    "\\end{align}\n",
    "\n",
    "#### Regularization:\n",
    "\\begin{align}\n",
    "r_z &= \\sum_{k=1}^K \\sum_{n=1}^N z_{n,k} \\log(z_{n,k}) \\\\\n",
    "r_w &= \\sum_{k=1}^K \\sum_{m=1}^M w_{k,m}^2\n",
    "\\end{align}\n",
    "\n",
    "### The objective function:\n",
    "\\begin{align}\n",
    "f(\\mathbf{W},\\mathbf{Z}; \\mathbf{X}, \\mathbf{y}) = -\\sum_{n=1}^N y_n \\left( \\sum_{k=1}^K z_{n,k} \\left( \\sum_{m=0}^M w_{k,m}x_{m,n} \\right) \\right) + \\lambda \\sum_{k=1}^K \\sum_{n=1}^N z_{n,k} \\log(z_{n,k}) + \\mu \\sum_{k=1}^K \\sum_{m=1}^M w_{k,m}^2\n",
    "\\end{align}\n",
    "\n",
    "### Partial derivatives\n",
    "We now need partial derivatives for the optimization parameters: $w_{k,m}$ and $z_{n,k}$\n",
    "\\begin{align}\n",
    "\\frac{\\partial f}{\\partial w_{k,m}} &= -\\sum_{n=1}^N y_n x_{m,n} z_{n,k} + 2\\mu w_{k,m} \\\\\n",
    "\\frac{\\partial f}{\\partial z_{n,k}} &= -y_n \\sum_{m=0}^M w_{k,m}x_{m,n} + \\lambda(\\log z_{n,k} +1)\n",
    "\\end{align}\n",
    "Because the objective is minimization, we move in the negative direction of the gradient: $w_{k,m} := w_{k,m} - \\frac{\\partial f}{\\partial w_{k,m}}$ and $z_{n,k} := z_{n,k}-\\frac{\\partial f}{\\partial z_{n,k}}$\n",
    "\n",
    "### The learning algorithm:\n",
    "- Indices:\n",
    "  - N: number of samples\n",
    "  - M: dimensionality\n",
    "  - K: number of groups \n",
    "- Initialize \n",
    "  - $\\mathbf{W} \\in K\\times(M+1)$\n",
    "  - $\\mathbf{Z} \\in N \\times K$\n",
    "- Set \n",
    "  - $x_n:= [1, x_n^T]^T$ for all $n\\in \\{1,\\ldots,N\\}$\n",
    "  - learning rate $\\eta=0.01$\n",
    "  - regularizer for group parameters $\\lambda=0.01$\n",
    "  - regularizer for weights $\\mu=0.01$\n",
    "- Iterate until convergence\n",
    "\\begin{align}\n",
    "w_{k,m} &:= w_{k,m} + \\eta\\left( \\sum_{n=1}^N y_n x_{m,n} z_{n,k} - 2\\mu w_{k,m}[m \\neq 0] \\right) \\\\\n",
    "z_{n,k} &:= z_{n,k} + \\eta\\left( y_n \\sum_{m=0}^M w_{k,m}x_{m,n} - \\lambda(\\log z_{n,k} +1) \\right)\n",
    "\\end{align}"
   ]
  },
  {
   "cell_type": "code",
   "execution_count": 76,
   "metadata": {
    "collapsed": false
   },
   "outputs": [
    {
     "name": "stdout",
     "output_type": "stream",
     "text": [
      "150\n",
      "2\n",
      "3\n",
      "[[ 3.49811463 -2.42970602  0.67645479]\n",
      " [ 3.31250324 -2.79444032  0.64137663]\n",
      " [ 3.50195594 -2.69139727  0.36671047]]\n",
      "[[ 6.03636119 -6.19954618  0.67645479]\n",
      " [ 5.88855029 -7.44693702  0.64137663]\n",
      " [ 5.98657797 -6.62855481  0.36671047]]\n",
      "[[  8.21901492 -12.34788588   0.67645479]\n",
      " [         nan          nan   0.64137663]\n",
      " [         nan          nan   0.36671047]]\n",
      "[[  8.21901492 -12.34788588   0.67645479]\n",
      " [         nan          nan   0.64137663]\n",
      " [         nan          nan   0.36671047]]\n"
     ]
    },
    {
     "data": {
      "image/png": "[encoded data removed]",
      "text/plain": [
       "<matplotlib.figure.Figure at 0x7fbbd519d7f0>"
      ]
     },
     "metadata": {},
     "output_type": "display_data"
    }
   ],
   "source": [
    "X, Y, N1, N2 = gen_data_gauss()\n",
    "[N,M] = X.shape\n",
    "K = 3\n",
    "MAX_ITER = 3\n",
    "eta = 0.01\n",
    "lamb = 0.001\n",
    "mu = 0.1\n",
    "print(N)\n",
    "print(M)\n",
    "print(K)\n",
    "\n",
    "X = np.hstack((np.ones(N1+N2).reshape((-1,1)),X)).transpose() # M+1 x N\n",
    "W = np.random.random((K,M+1))\n",
    "Z = np.random.random((N,K))*10\n",
    "\n",
    "for s in range(MAX_ITER):\n",
    "    for k in range(K):\n",
    "        for m in range(M):\n",
    "            tmp = 0\n",
    "            for n in range(N):\n",
    "                tmp += X[m,n]*Z[n,k]*Y[n]\n",
    "            W[k,m] = W[k,m] + eta*(tmp-2*mu*W[k,m]*(m!=0))\n",
    "    for k in range(K):\n",
    "        for n in range(N):\n",
    "            tmp = 0\n",
    "            for m in range(M):\n",
    "                tmp += W[k,m]*X[m,n]*Y[n]\n",
    "            Z[n,k] = Z[n,k] + eta*(tmp-lamb*(np.log(Z[n,k])+1))\n",
    "            Z[n,k] = Z[n,k]*(Z[n,k]<0) + Z[n,k]*(Z[n,k]>0)\n",
    "    print(W)\n",
    "            \n",
    "print(W)\n",
    "\n",
    "plt.figure()\n",
    "plt.plot(X[1,:N1],X[2,:N1], 'b+')\n",
    "plt.plot(X[1,N1:],X[2,N1:], 'r*')\n",
    "plt.xlim([-2,12])\n",
    "plt.ylim([-2,12])\n",
    "for k in range(K):\n",
    "    x_ = np.arange(np.min(X),np.max(X),1e-2)\n",
    "    y_ = (-x_*W[k,1]-W[k,0])/W[k,2]\n",
    "    plt.plot(x_, y_, 'm-')\n",
    "        "
   ]
  },
  {
   "cell_type": "markdown",
   "metadata": {},
   "source": [
    "# Problem-2"
   ]
  },
  {
   "cell_type": "markdown",
   "metadata": {},
   "source": [
    "### Loading the data set"
   ]
  },
  {
   "cell_type": "code",
   "execution_count": 226,
   "metadata": {
    "collapsed": false
   },
   "outputs": [
    {
     "name": "stdout",
     "output_type": "stream",
     "text": [
      "65123 samples, each 123 dimensional.\n"
     ]
    }
   ],
   "source": [
    "from sklearn.datasets import load_svmlight_file\n",
    "from scipy import sparse\n",
    "[X,y] = load_svmlight_file(\"data/A9A\")\n",
    "[L, N] = X.shape\n",
    "print(str(L) + \" samples, each \" + str(N) + \" dimensional.\")\n",
    "\n",
    "C = 20\n",
    "L2_SVM = 1\n",
    "if L1_SVM:\n",
    "    U = C\n",
    "else:\n",
    "    U = 1e10\n",
    "RESULT_FOLDER = \"data/weights/\"\n",
    "MAX_ITER = 50"
   ]
  },
  {
   "cell_type": "markdown",
   "metadata": {},
   "source": [
    "### Running the algorithm"
   ]
  },
  {
   "cell_type": "code",
   "execution_count": 227,
   "metadata": {
    "collapsed": false,
    "scrolled": true
   },
   "outputs": [
    {
     "name": "stdout",
     "output_type": "stream",
     "text": [
      "iteration: 0, duration: 18 seconds.\n",
      "iteration: 1, duration: 18 seconds.\n",
      "iteration: 2, duration: 17 seconds.\n",
      "iteration: 3, duration: 17 seconds.\n",
      "iteration: 4, duration: 17 seconds.\n",
      "iteration: 5, duration: 18 seconds.\n",
      "iteration: 6, duration: 17 seconds.\n",
      "iteration: 7, duration: 17 seconds.\n",
      "iteration: 8, duration: 17 seconds.\n",
      "iteration: 9, duration: 17 seconds.\n",
      "iteration: 10, duration: 17 seconds.\n",
      "iteration: 11, duration: 18 seconds.\n",
      "iteration: 12, duration: 18 seconds.\n",
      "iteration: 13, duration: 17 seconds.\n",
      "iteration: 14, duration: 17 seconds.\n",
      "iteration: 15, duration: 17 seconds.\n",
      "iteration: 16, duration: 17 seconds.\n",
      "iteration: 17, duration: 17 seconds.\n",
      "iteration: 18, duration: 18 seconds.\n",
      "iteration: 19, duration: 18 seconds.\n",
      "iteration: 20, duration: 17 seconds.\n",
      "iteration: 21, duration: 17 seconds.\n",
      "iteration: 22, duration: 17 seconds.\n",
      "iteration: 23, duration: 17 seconds.\n",
      "iteration: 24, duration: 17 seconds.\n",
      "iteration: 25, duration: 17 seconds.\n",
      "iteration: 26, duration: 17 seconds.\n",
      "iteration: 27, duration: 17 seconds.\n",
      "iteration: 28, duration: 17 seconds.\n",
      "iteration: 29, duration: 17 seconds.\n",
      "iteration: 30, duration: 17 seconds.\n",
      "iteration: 31, duration: 18 seconds.\n",
      "iteration: 32, duration: 18 seconds.\n",
      "iteration: 33, duration: 17 seconds.\n",
      "iteration: 34, duration: 18 seconds.\n",
      "iteration: 35, duration: 17 seconds.\n",
      "iteration: 36, duration: 17 seconds.\n",
      "iteration: 37, duration: 17 seconds.\n",
      "iteration: 38, duration: 17 seconds.\n",
      "iteration: 39, duration: 17 seconds.\n",
      "iteration: 40, duration: 18 seconds.\n",
      "iteration: 41, duration: 18 seconds.\n",
      "iteration: 42, duration: 17 seconds.\n",
      "iteration: 43, duration: 17 seconds.\n",
      "iteration: 44, duration: 18 seconds.\n",
      "iteration: 45, duration: 20 seconds.\n",
      "iteration: 46, duration: 17 seconds.\n",
      "iteration: 47, duration: 17 seconds.\n",
      "iteration: 48, duration: 17 seconds.\n",
      "iteration: 49, duration: 17 seconds.\n"
     ]
    }
   ],
   "source": [
    "alpha = np.zeros((1,L))\n",
    "w0 = 0\n",
    "w = np.zeros((1,N))\n",
    "\n",
    "Qii = np.zeros(L)\n",
    "for l in range(L):\n",
    "    Qii[l] = (x_*x_.T)[0,0]\n",
    "\n",
    "for it in range(MAX_ITER):\n",
    "    now_ = time.time()\n",
    "    for i in range(L):\n",
    "        # step-1\n",
    "        x_ = X[i,:].todense().reshape(N)\n",
    "        G = (y[i]*x_*w.T - 1)[0,0] + (1-L1_SVM)/(2*C) \n",
    "        # step-2\n",
    "        if alpha[0,i]==0:\n",
    "            PG = np.min(G,0)\n",
    "        elif alpha[0,i] == U:\n",
    "            PG = np.max(G,0)\n",
    "        elif 0<alpha[0,i] and alpha[0,i]<U:\n",
    "            PG = G\n",
    "        # step-3\n",
    "        if np.abs(PG)!=0:\n",
    "            alpha_old = alpha[0,i]\n",
    "            # Qii = (x_*x_.T)[0,0]\n",
    "            alpha[0,i] = min(max(alpha[0,i]-G/Qii[i],0),U)\n",
    "            w = w + (alpha[0,i]-alpha_old)*y[i]*x_\n",
    "            w0 = w0 + (alpha[0,i]-alpha_old)*y[i] \n",
    "    w_ = np.hstack((w,np.array(w0).reshape((1,1))))\n",
    "    np.savetxt(RESULT_FOLDER+\"w\"+str(it)+\".txt\",w_)\n",
    "    print(\"iteration: \" + str(it) + \", duration: \" + str(int(time.time()-now_)) + \" seconds.\")"
   ]
  },
  {
   "cell_type": "markdown",
   "metadata": {},
   "source": [
    "### Plot the convergence"
   ]
  },
  {
   "cell_type": "code",
   "execution_count": 228,
   "metadata": {
    "collapsed": false
   },
   "outputs": [
    {
     "data": {
      "text/plain": [
       "(0, 0.015982080681921418)"
      ]
     },
     "execution_count": 228,
     "metadata": {},
     "output_type": "execute_result"
    },
    {
     "data": {
      "image/png": "[encoded data removed]",
      "text/plain": [
       "<matplotlib.figure.Figure at 0x7fc5d456da58>"
      ]
     },
     "metadata": {},
     "output_type": "display_data"
    }
   ],
   "source": [
    "diff = []\n",
    "w_old = np.loadtxt(RESULT_FOLDER+\"w0.txt\")\n",
    "for i in range(1,MAX_ITER):\n",
    "    w = np.loadtxt(RESULT_FOLDER+\"w\"+str(i)+\".txt\")\n",
    "    diff_ = np.abs(np.sum(w-w_old))/len(w)\n",
    "    diff.append(diff_)\n",
    "    w_old = w\n",
    "\n",
    "plt.figure(figsize=(18,5))\n",
    "plt.plot(diff, '*-b')\n",
    "plt.xlabel(\"iteration number\")\n",
    "plt.ylabel(\"the change in weights (per weight)\")\n",
    "plt.ylim([0,np.max(diff)])"
   ]
  },
  {
   "cell_type": "markdown",
   "metadata": {},
   "source": [
    "### Print and plot accuracy"
   ]
  },
  {
   "cell_type": "code",
   "execution_count": 229,
   "metadata": {
    "collapsed": false
   },
   "outputs": [
    {
     "name": "stdout",
     "output_type": "stream",
     "text": [
      "accuracy: 0.819667096616\n",
      "accuracy: 0.82126405012\n",
      "accuracy: 0.822185369449\n",
      "accuracy: 0.822676739758\n",
      "accuracy: 0.822738161047\n",
      "accuracy: 0.822615318469\n",
      "accuracy: 0.822369633315\n",
      "accuracy: 0.822492475892\n",
      "accuracy: 0.822492475892\n",
      "accuracy: 0.822431054604\n",
      "accuracy: 0.822431054604\n",
      "accuracy: 0.822431054604\n",
      "accuracy: 0.822431054604\n",
      "accuracy: 0.822431054604\n",
      "accuracy: 0.822492475892\n",
      "accuracy: 0.822492475892\n",
      "accuracy: 0.822492475892\n",
      "accuracy: 0.822492475892\n",
      "accuracy: 0.822492475892\n",
      "accuracy: 0.822492475892\n",
      "accuracy: 0.822492475892\n",
      "accuracy: 0.822431054604\n",
      "accuracy: 0.822431054604\n",
      "accuracy: 0.822431054604\n",
      "accuracy: 0.822431054604\n",
      "accuracy: 0.822431054604\n",
      "accuracy: 0.822431054604\n",
      "accuracy: 0.822431054604\n",
      "accuracy: 0.822431054604\n",
      "accuracy: 0.822431054604\n",
      "accuracy: 0.822431054604\n",
      "accuracy: 0.822431054604\n",
      "accuracy: 0.822431054604\n",
      "accuracy: 0.822431054604\n",
      "accuracy: 0.822431054604\n",
      "accuracy: 0.822431054604\n",
      "accuracy: 0.822431054604\n",
      "accuracy: 0.822369633315\n",
      "accuracy: 0.821448313986\n",
      "accuracy: 0.821448313986\n",
      "accuracy: 0.82126405012\n",
      "accuracy: 0.821202628831\n",
      "accuracy: 0.821202628831\n",
      "accuracy: 0.821202628831\n",
      "accuracy: 0.821325471408\n",
      "accuracy: 0.821325471408\n",
      "accuracy: 0.821325471408\n",
      "accuracy: 0.821509735274\n",
      "accuracy: 0.821632577851\n",
      "accuracy: 0.821632577851\n"
     ]
    },
    {
     "data": {
      "text/plain": [
       "(0.81966709661568693, 0.82273816104661879)"
      ]
     },
     "execution_count": 229,
     "metadata": {},
     "output_type": "execute_result"
    },
    {
     "data": {
      "image/png": "[encoded data removed]",
      "text/plain": [
       "<matplotlib.figure.Figure at 0x7fc5d42c4048>"
      ]
     },
     "metadata": {},
     "output_type": "display_data"
    }
   ],
   "source": [
    "acc = []\n",
    "for it in range(MAX_ITER):\n",
    "    w_ = np.loadtxt(RESULT_FOLDER+\"w\"+str(it)+\".txt\")\n",
    "    w0 = w_[-1]\n",
    "    w = w_[:-2] # ignore the last weight and omit w0 appended at the end of w \n",
    "\n",
    "    # load the data set\n",
    "    [Xt,yt] = load_svmlight_file(\"data/A9A.t\")\n",
    "    [Lt, Nt] = Xt.shape\n",
    "    y_res = np.zeros(Lt)\n",
    "\n",
    "    # compute my results\n",
    "    for i in range(Lt):\n",
    "        y_res[i] = (Xt[i]*w)[0]+w0\n",
    "\n",
    "    acc_ = 1-np.sum(np.array(yt*y_res)<0)/len(y_res)\n",
    "    acc.append(acc_)\n",
    "    print(\"accuracy: \" + str(acc_))\n",
    "\n",
    "plt.figure(figsize=(18,5))\n",
    "plt.plot(acc, '*-b')\n",
    "plt.xlabel(\"iteration number\")\n",
    "plt.ylabel(\"accuracy\")\n",
    "plt.ylim([np.min(acc),np.max(acc)])"
   ]
  },
  {
   "cell_type": "markdown",
   "metadata": {},
   "source": [
    "# Problem-3"
   ]
  },
  {
   "cell_type": "markdown",
   "metadata": {},
   "source": [
    " - Clustering the data to start with good initial $K$ and $\\mathbf{Z}$ values.\n",
    " - k-fold cross validation for model parameters\n",
    " - linear regression but with basis functions\n",
    " - Do not compute gradient if $x_{n,m}$ is zero\n",
    " - What ensures the positivity of $z_{n,k}$?"
   ]
  },
  {
   "cell_type": "code",
   "execution_count": 169,
   "metadata": {
    "collapsed": false
   },
   "outputs": [
    {
     "name": "stdout",
     "output_type": "stream",
     "text": [
      "{\n",
      "  \"shell_port\": 42959,\n",
      "  \"hb_port\": 45081,\n",
      "  \"control_port\": 53971,\n",
      "  \"key\": \"b718bfcf-8583-400b-b3c6-f407a602d171\",\n",
      "  \"signature_scheme\": \"hmac-sha256\",\n",
      "  \"transport\": \"tcp\",\n",
      "  \"stdin_port\": 37598,\n",
      "  \"ip\": \"127.0.0.1\",\n",
      "  \"iopub_port\": 58084\n",
      "}\n",
      "\n",
      "Paste the above JSON into a file, and connect with:\n",
      "    $> ipython <app> --existing <file>\n",
      "or, if you are local, you can connect with just:\n",
      "    $> ipython <app> --existing /run/user/1000/jupyter/kernel-051d73cd-0ee5-4057-947c-e6942cd20477.json \n",
      "or even just:\n",
      "    $> ipython <app> --existing \n",
      "if this is the most recent IPython session you have started.\n"
     ]
    }
   ],
   "source": [
    "%connect_info"
   ]
  },
  {
   "cell_type": "markdown",
   "metadata": {},
   "source": []
  }
 ],
 "metadata": {
  "kernelspec": {
   "display_name": "Python 3",
   "language": "python",
   "name": "python3"
  },
  "language_info": {
   "codemirror_mode": {
    "name": "ipython",
    "version": 3
   },
   "file_extension": ".py",
   "mimetype": "text/x-python",
   "name": "python",
   "nbconvert_exporter": "python",
   "pygments_lexer": "ipython3",
   "version": "3.5.3"
  }
 },
 "nbformat": 4,
 "nbformat_minor": 0
}
